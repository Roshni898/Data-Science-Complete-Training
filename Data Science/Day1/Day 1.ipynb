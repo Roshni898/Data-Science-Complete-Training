{
 "cells": [
  {
   "cell_type": "code",
   "execution_count": 1,
   "id": "d39d47ee-4fb3-4d7b-a681-5f75d1816e68",
   "metadata": {},
   "outputs": [
    {
     "name": "stdout",
     "output_type": "stream",
     "text": [
      "5678 <class 'int'>\n"
     ]
    }
   ],
   "source": [
    "# Int\n",
    "a = 5678\n",
    "print(a,type(a))"
   ]
  },
  {
   "cell_type": "code",
   "execution_count": 2,
   "id": "318e7bb9-c090-448b-ae13-2728f8fd7a84",
   "metadata": {},
   "outputs": [
    {
     "name": "stdout",
     "output_type": "stream",
     "text": [
      "4567.8765 <class 'float'>\n"
     ]
    }
   ],
   "source": [
    "# Float\n",
    "a = 4567.8765\n",
    "print(a,type(a))"
   ]
  },
  {
   "cell_type": "code",
   "execution_count": 3,
   "id": "13213246-da43-4b43-803a-be8cd32afaef",
   "metadata": {},
   "outputs": [
    {
     "name": "stdout",
     "output_type": "stream",
     "text": [
      "(456+8j) <class 'complex'>\n"
     ]
    }
   ],
   "source": [
    "# Complex\n",
    "a = 456 + 8j\n",
    "print(a,type(a))"
   ]
  },
  {
   "cell_type": "markdown",
   "id": "0466c62c-cd07-4466-9afb-3f8a2ebb41bd",
   "metadata": {},
   "source": [
    "# Int,float, Complex = Numerical"
   ]
  },
  {
   "cell_type": "code",
   "execution_count": 4,
   "id": "5a6467d3-479b-4847-aec3-1f9da5732611",
   "metadata": {},
   "outputs": [
    {
     "name": "stdout",
     "output_type": "stream",
     "text": [
      "Hello Python <class 'str'>\n"
     ]
    }
   ],
   "source": [
    "# Str, double, triple\n",
    "a = 'Hello Python'\n",
    "print(a,type(a))"
   ]
  },
  {
   "cell_type": "code",
   "execution_count": 10,
   "id": "594f1183-f252-43b3-bc43-e15833d3d2c7",
   "metadata": {},
   "outputs": [
    {
     "name": "stdout",
     "output_type": "stream",
     "text": [
      "Twinkle twinkle little star\n",
      "How I wonder what you are\n",
      "Up above the world so high\n",
      "Like a diamond in the sky\n",
      "Twinkle twinkle little star\n",
      "How I wonder what you are\n",
      "\n",
      "\n",
      "\n",
      "Twinkle twinkle little star\n",
      "How I wonder what you are\n",
      "Up above the world so high\n",
      "Like a diamond in the sky\n",
      "Twinkle twinkle little star\n",
      "How I wonder what you are\n"
     ]
    }
   ],
   "source": [
    "poem ='''Twinkle twinkle little star\n",
    "How I wonder what you are\n",
    "Up above the world so high\n",
    "Like a diamond in the sky\n",
    "Twinkle twinkle little star\n",
    "How I wonder what you are\n",
    "\n",
    "\n",
    "\n",
    "Twinkle twinkle little star\n",
    "How I wonder what you are\n",
    "Up above the world so high\n",
    "Like a diamond in the sky\n",
    "Twinkle twinkle little star\n",
    "How I wonder what you are'''\n",
    "\n",
    "\n",
    "print(poem)"
   ]
  },
  {
   "cell_type": "code",
   "execution_count": 11,
   "id": "a2958b6b-a633-4aa0-88e6-3739dd2571db",
   "metadata": {},
   "outputs": [
    {
     "name": "stdout",
     "output_type": "stream",
     "text": [
      "(2, 3434, 5, 5467) <class 'tuple'>\n"
     ]
    }
   ],
   "source": [
    "# tuple\n",
    "a = (2,3434,5,5467)\n",
    "print(a,type(a))"
   ]
  },
  {
   "cell_type": "code",
   "execution_count": 14,
   "id": "47a54c19-617e-4da1-b861-8b2ab65fac88",
   "metadata": {},
   "outputs": [
    {
     "name": "stdout",
     "output_type": "stream",
     "text": [
      "(2,) <class 'tuple'>\n"
     ]
    }
   ],
   "source": [
    "# tuple\n",
    "a = (2,)\n",
    "print(a,type(a))"
   ]
  },
  {
   "cell_type": "code",
   "execution_count": 15,
   "id": "ab6c3075-d938-40e0-baba-71ad07271ea6",
   "metadata": {},
   "outputs": [
    {
     "name": "stdout",
     "output_type": "stream",
     "text": [
      "[2, 3434, 5, 5467] <class 'list'>\n"
     ]
    }
   ],
   "source": [
    "# list\n",
    "a = [2,3434,5,5467]\n",
    "print(a,type(a))"
   ]
  },
  {
   "cell_type": "code",
   "execution_count": 16,
   "id": "63c45900-cf2b-40b7-b34d-fae0452a7cb7",
   "metadata": {},
   "outputs": [
    {
     "name": "stdout",
     "output_type": "stream",
     "text": [
      "[2, 3434, 4000, 5467]\n"
     ]
    }
   ],
   "source": [
    "a[2] = 4000\n",
    "print(a)"
   ]
  },
  {
   "cell_type": "code",
   "execution_count": 17,
   "id": "b2944cf1-4675-4b86-963c-739df8a73bad",
   "metadata": {},
   "outputs": [
    {
     "name": "stdout",
     "output_type": "stream",
     "text": [
      "[2, 3434, 4000, 900]\n"
     ]
    }
   ],
   "source": [
    "a[3] = 900\n",
    "print(a)"
   ]
  },
  {
   "cell_type": "code",
   "execution_count": 18,
   "id": "ef7bfa1f-37f8-4a80-8193-dc33e4a4dd74",
   "metadata": {},
   "outputs": [
    {
     "name": "stdout",
     "output_type": "stream",
     "text": [
      "900\n"
     ]
    }
   ],
   "source": [
    "print(a[3])"
   ]
  },
  {
   "cell_type": "code",
   "execution_count": 21,
   "id": "69b14e8c-7d36-4d39-987a-65bb1f403672",
   "metadata": {},
   "outputs": [
    {
     "name": "stdout",
     "output_type": "stream",
     "text": [
      "(2, 3434, 4000, 900)\n"
     ]
    }
   ],
   "source": [
    "a=list(a)\n",
    "a = tuple(a)\n",
    "print(a)"
   ]
  },
  {
   "cell_type": "code",
   "execution_count": 22,
   "id": "c90d1a85-54fd-4b8d-b01e-4cb5de09e12c",
   "metadata": {},
   "outputs": [
    {
     "name": "stdout",
     "output_type": "stream",
     "text": [
      "[1, 1, 2, 2, 2, 2, 23, 3, 3, 3, 4, 4, 45]\n"
     ]
    }
   ],
   "source": [
    "std_id = [1,1,2,2,2,2,23,3,3,3,4,4,45]\n",
    "print(std_id)"
   ]
  },
  {
   "cell_type": "code",
   "execution_count": 23,
   "id": "5a1abc0d-2361-4a52-8968-535f70472af2",
   "metadata": {},
   "outputs": [
    {
     "name": "stdout",
     "output_type": "stream",
     "text": [
      "[1, 2, 3, 4, 45, 23]\n"
     ]
    }
   ],
   "source": [
    "std_id = list(set(std_id))\n",
    "print(std_id)"
   ]
  },
  {
   "cell_type": "code",
   "execution_count": 28,
   "id": "5fe5f989-fd81-42ed-880c-df20db74e492",
   "metadata": {},
   "outputs": [
    {
     "name": "stdout",
     "output_type": "stream",
     "text": [
      "{'Name': 'Aman', 'Age': 23, 'Address': 'Delhi'} <class 'dict'>\n"
     ]
    }
   ],
   "source": [
    "# dict:- key value pair datatype, # hash\n",
    "a = {'Name':'Aman','Age':23,'Address':'Delhi'}\n",
    "print( a,type(a))"
   ]
  },
  {
   "cell_type": "code",
   "execution_count": 29,
   "id": "c9999a72-f8cb-4e31-a347-21735e262283",
   "metadata": {},
   "outputs": [
    {
     "name": "stdout",
     "output_type": "stream",
     "text": [
      "{'Name': 'Aman', 'Age': 23, 'Address': 'Noida/Gr Noida'}\n"
     ]
    }
   ],
   "source": [
    "a['Address'] = 'Noida/Gr Noida'\n",
    "print(a)"
   ]
  },
  {
   "cell_type": "code",
   "execution_count": 30,
   "id": "207a59ce-62df-4d8b-ba94-7c16abb437ec",
   "metadata": {},
   "outputs": [],
   "source": [
    "a['Name'] = 'Aman Kumar'"
   ]
  },
  {
   "cell_type": "code",
   "execution_count": 31,
   "id": "4e25ff00-95ff-4b36-a215-c0011cda55af",
   "metadata": {},
   "outputs": [
    {
     "name": "stdout",
     "output_type": "stream",
     "text": [
      "{'Name': 'Aman Kumar', 'Age': 23, 'Address': 'Noida/Gr Noida'}\n"
     ]
    }
   ],
   "source": [
    "print(a)"
   ]
  },
  {
   "cell_type": "code",
   "execution_count": 32,
   "id": "583a7895-cefd-4ebd-8fef-d473d1f0423b",
   "metadata": {},
   "outputs": [
    {
     "name": "stdout",
     "output_type": "stream",
     "text": [
      "{'Region': ['West', 'East', 'North', 'South'], 'Sales': [345, 546, 453, 456], 'Profit': [120, 200, 90, 78]}\n"
     ]
    }
   ],
   "source": [
    "data = {'Region':['West','East','North','South'],\n",
    "        'Sales':[345,546,453,456],\n",
    "        'Profit':[120,200,90,78]}\n",
    "print(data)"
   ]
  },
  {
   "cell_type": "code",
   "execution_count": 36,
   "id": "54c795fa-8f86-4962-b2ac-508a65bc1a88",
   "metadata": {},
   "outputs": [
    {
     "data": {
      "text/html": [
       "<div>\n",
       "<style scoped>\n",
       "    .dataframe tbody tr th:only-of-type {\n",
       "        vertical-align: middle;\n",
       "    }\n",
       "\n",
       "    .dataframe tbody tr th {\n",
       "        vertical-align: top;\n",
       "    }\n",
       "\n",
       "    .dataframe thead th {\n",
       "        text-align: right;\n",
       "    }\n",
       "</style>\n",
       "<table border=\"1\" class=\"dataframe\">\n",
       "  <thead>\n",
       "    <tr style=\"text-align: right;\">\n",
       "      <th></th>\n",
       "      <th>Region</th>\n",
       "      <th>Sales</th>\n",
       "      <th>Profit</th>\n",
       "    </tr>\n",
       "  </thead>\n",
       "  <tbody>\n",
       "    <tr>\n",
       "      <th>0</th>\n",
       "      <td>West</td>\n",
       "      <td>345</td>\n",
       "      <td>120</td>\n",
       "    </tr>\n",
       "    <tr>\n",
       "      <th>1</th>\n",
       "      <td>East</td>\n",
       "      <td>546</td>\n",
       "      <td>200</td>\n",
       "    </tr>\n",
       "    <tr>\n",
       "      <th>2</th>\n",
       "      <td>North</td>\n",
       "      <td>453</td>\n",
       "      <td>90</td>\n",
       "    </tr>\n",
       "    <tr>\n",
       "      <th>3</th>\n",
       "      <td>South</td>\n",
       "      <td>456</td>\n",
       "      <td>78</td>\n",
       "    </tr>\n",
       "  </tbody>\n",
       "</table>\n",
       "</div>"
      ],
      "text/plain": [
       "  Region  Sales  Profit\n",
       "0   West    345     120\n",
       "1   East    546     200\n",
       "2  North    453      90\n",
       "3  South    456      78"
      ]
     },
     "execution_count": 36,
     "metadata": {},
     "output_type": "execute_result"
    }
   ],
   "source": [
    "import pandas as pd\n",
    "table = pd.DataFrame(data)\n",
    "table"
   ]
  },
  {
   "cell_type": "code",
   "execution_count": 37,
   "id": "1f56cbcd-8c61-4493-8bef-369eddded24d",
   "metadata": {},
   "outputs": [
    {
     "name": "stdout",
     "output_type": "stream",
     "text": [
      "True <class 'bool'>\n"
     ]
    }
   ],
   "source": [
    "a = True\n",
    "print(a,type(a))"
   ]
  },
  {
   "cell_type": "code",
   "execution_count": null,
   "id": "2b9ea9d0-6b99-4390-ae89-116d337db0b6",
   "metadata": {},
   "outputs": [],
   "source": [
    "# salary = 56789\n",
    "# >= 50: manager\n",
    "# >= 30: Jr manager\n",
    "# >= 20: Executive\n",
    "# Intern"
   ]
  },
  {
   "cell_type": "code",
   "execution_count": 40,
   "id": "bef3d0ba-d151-4f6f-8e14-b44c955a4c11",
   "metadata": {},
   "outputs": [
    {
     "name": "stdin",
     "output_type": "stream",
     "text": [
      "enter salary 600000\n"
     ]
    },
    {
     "name": "stdout",
     "output_type": "stream",
     "text": [
      "Manager\n"
     ]
    }
   ],
   "source": [
    "salary = int(input('enter salary'))\n",
    "if salary >= 50000:\n",
    "  print('Manager')\n",
    "elif salary >= 30000:\n",
    "  print('Jr Manager')\n",
    "elif salary >= 20000:\n",
    "  print('Executive')\n",
    "else:\n",
    "  print('Intern')"
   ]
  },
  {
   "cell_type": "code",
   "execution_count": 46,
   "id": "24e82f43-af0a-455e-9309-7ccb7411b06f",
   "metadata": {},
   "outputs": [
    {
     "ename": "TypeError",
     "evalue": "Random.randint() takes 3 positional arguments but 4 were given",
     "output_type": "error",
     "traceback": [
      "\u001b[1;31m---------------------------------------------------------------------------\u001b[0m",
      "\u001b[1;31mTypeError\u001b[0m                                 Traceback (most recent call last)",
      "Cell \u001b[1;32mIn[46], line 2\u001b[0m\n\u001b[0;32m      1\u001b[0m \u001b[38;5;28;01mimport\u001b[39;00m\u001b[38;5;250m \u001b[39m\u001b[38;5;21;01mrandom\u001b[39;00m\n\u001b[1;32m----> 2\u001b[0m random\u001b[38;5;241m.\u001b[39mrandint(\u001b[38;5;241m10000\u001b[39m,\u001b[38;5;241m60000\u001b[39m,\u001b[38;5;241m89\u001b[39m)\n",
      "\u001b[1;31mTypeError\u001b[0m: Random.randint() takes 3 positional arguments but 4 were given"
     ]
    }
   ],
   "source": [
    "import random\n",
    "random.randint(10000,60000,89)"
   ]
  },
  {
   "cell_type": "code",
   "execution_count": 55,
   "id": "3b6650b6-80ec-4540-b9c5-074822139e59",
   "metadata": {},
   "outputs": [
    {
     "data": {
      "text/plain": [
       "35689"
      ]
     },
     "execution_count": 55,
     "metadata": {},
     "output_type": "execute_result"
    }
   ],
   "source": [
    "import random\n",
    "random.randint(10000,60000)"
   ]
  },
  {
   "cell_type": "code",
   "execution_count": 64,
   "id": "66c11c07-334b-4f02-9412-a5dc6a256509",
   "metadata": {},
   "outputs": [
    {
     "name": "stdout",
     "output_type": "stream",
     "text": [
      "198768\n"
     ]
    }
   ],
   "source": [
    "import numpy as np\n",
    "database_salary = np.random.randint(1000,50000,5)\n",
    "print(salary)"
   ]
  },
  {
   "cell_type": "code",
   "execution_count": 75,
   "id": "7a657c86-0986-4f39-8d1d-f09b2c0a2c63",
   "metadata": {},
   "outputs": [
    {
     "name": "stdout",
     "output_type": "stream",
     "text": [
      "29519 Executive\n",
      "35835 Jr Manager\n",
      "12641 Intern\n",
      "13534 Intern\n",
      "31810 Jr Manager\n"
     ]
    }
   ],
   "source": [
    "for i in database_salary:\n",
    "  salary = i\n",
    "  if salary >= 50000:\n",
    "    print(i, 'Manager')\n",
    "  elif salary >= 30000:\n",
    "    print(i, 'Jr Manager')\n",
    "  elif salary >= 20000:\n",
    "    print(i, 'Executive')\n",
    "  else:\n",
    "    print(i, 'Intern')"
   ]
  },
  {
   "cell_type": "code",
   "execution_count": 78,
   "id": "4842f637-50d0-4f3a-b149-c6a5b4838cb8",
   "metadata": {},
   "outputs": [
    {
     "name": "stdout",
     "output_type": "stream",
     "text": [
      "Sun Jul 20 17:38:10 2025\n"
     ]
    }
   ],
   "source": [
    "import time\n",
    "for i in range(5):\n",
    "  print(time.asctime())\n",
    "  time.sleep(1)\n",
    "  display(clear= True)"
   ]
  },
  {
   "cell_type": "code",
   "execution_count": 73,
   "id": "99d5705c-d5e8-4d43-86c1-1efe6bdb7f3b",
   "metadata": {},
   "outputs": [
    {
     "name": "stdin",
     "output_type": "stream",
     "text": [
      "Enter your Choice(1-10):  4\n"
     ]
    },
    {
     "name": "stdout",
     "output_type": "stream",
     "text": [
      "\n",
      "User choice: 4\n",
      "Computer Choice: 8\n",
      "Better Luck next time!!\n"
     ]
    }
   ],
   "source": [
    "import random\n",
    "comp_choice = random.randint(1,10)\n",
    "user_choice = int(input('Enter your Choice(1-10): '))\n",
    "\n",
    "print(f'''\n",
    "User choice: {user_choice}\n",
    "Computer Choice: {comp_choice}''')\n",
    "\n",
    "if user_choice == comp_choice:\n",
    "  print('User Won, Comp Lose!!')\n",
    "else:\n",
    "  print('Better Luck next time!!')\n",
    "\n"
   ]
  },
  {
   "cell_type": "code",
   "execution_count": 79,
   "id": "715266dc-c097-4f1f-869f-c59551b112ba",
   "metadata": {},
   "outputs": [
    {
     "name": "stdin",
     "output_type": "stream",
     "text": [
      "Enter your Choice(1-10):  7\n"
     ]
    },
    {
     "name": "stdout",
     "output_type": "stream",
     "text": [
      "\n",
      "  User choice: 7\n",
      "  Computer Choice: 9\n",
      "Better Luck next time!!\n"
     ]
    },
    {
     "name": "stdin",
     "output_type": "stream",
     "text": [
      "Enter your Choice(1-10):  4\n"
     ]
    },
    {
     "name": "stdout",
     "output_type": "stream",
     "text": [
      "\n",
      "  User choice: 4\n",
      "  Computer Choice: 3\n",
      "Better Luck next time!!\n"
     ]
    },
    {
     "name": "stdin",
     "output_type": "stream",
     "text": [
      "Enter your Choice(1-10):  8\n"
     ]
    },
    {
     "name": "stdout",
     "output_type": "stream",
     "text": [
      "\n",
      "  User choice: 8\n",
      "  Computer Choice: 7\n",
      "Better Luck next time!!\n"
     ]
    }
   ],
   "source": [
    "user_attempts = 3\n",
    "import random\n",
    "for i in range(user_attempts):\n",
    "  comp_choice = random.randint(1,10)\n",
    "  user_choice = int(input('Enter your Choice(1-10): '))\n",
    "\n",
    "  print(f'''\n",
    "  User choice: {user_choice}\n",
    "  Computer Choice: {comp_choice}''')\n",
    "\n",
    "  if user_choice == comp_choice:\n",
    "    print('User Won, Comp Lose!!')\n",
    "  else:\n",
    "    print('Better Luck next time!!')"
   ]
  },
  {
   "cell_type": "code",
   "execution_count": 80,
   "id": "02c10de8-2b70-4a99-9508-1b672b292ff5",
   "metadata": {},
   "outputs": [
    {
     "name": "stdout",
     "output_type": "stream",
     "text": [
      "Question 1:  What is the capital of Australia?\n",
      "A) Sydney\n",
      "B) Melbourne\n",
      "C) Canberra\n",
      "D) Perth\n"
     ]
    },
    {
     "name": "stdin",
     "output_type": "stream",
     "text": [
      "Enter your choice:  a\n"
     ]
    },
    {
     "name": "stdout",
     "output_type": "stream",
     "text": [
      "Better luck next time!!\n",
      "Total Amount 0\n"
     ]
    }
   ],
   "source": [
    "Questions = {1:'What is the capital of Australia?',\n",
    "             2:'Who invented the telephone?',\n",
    "             3:'Which planet is known as the Red Planet?',\n",
    "             4:'In which year did India gain independence?',\n",
    "             5:'What is the largest organ in the human body?'}\n",
    "\n",
    "options = {1:'''A) Sydney\n",
    "B) Melbourne\n",
    "C) Canberra\n",
    "D) Perth''',\n",
    "           2:'''A) Albert Einstein\n",
    "B) Isaac Newton\n",
    "C) Alexander Graham Bell\n",
    "D) Thomas Edison''',\n",
    "           3:'''A) Earth\n",
    "B) Venus\n",
    "C) Jupiter\n",
    "D) Mars''',\n",
    "           4:'''A) 1945\n",
    "B) 1946\n",
    "C) 1947\n",
    "D) 1950''',\n",
    "           5:'''A) Liver\n",
    "B) Brain\n",
    "C) Skin\n",
    "D) Heart'''}\n",
    "\n",
    "win_ammount = 0\n",
    "\n",
    "correct_op = ['C','C','D','C','C']\n",
    "\n",
    "for i in range(1,len(Questions)+1):\n",
    "  print(f'Question {i}: ',Questions[i])\n",
    "  print(options[i])\n",
    "  user_choice = input('Enter your choice: ').upper()\n",
    "\n",
    "  correct_ans = correct_op[i-1]\n",
    "  # print(correct_ans)\n",
    "  if user_choice == correct_ans:\n",
    "    win_ammount += 10000\n",
    "    print('Correct Answer!!')\n",
    "    print(end = '\\n'*3)\n",
    "\n",
    "  else:\n",
    "    print('Better luck next time!!')\n",
    "    break\n",
    "\n",
    "\n",
    "print('Total Amount',win_ammount)"
   ]
  },
  {
   "cell_type": "code",
   "execution_count": 81,
   "id": "f778cf32-6585-4f11-9da8-92eaa1aee9ee",
   "metadata": {},
   "outputs": [],
   "source": [
    "def say_hello(name):\n",
    "  print(f'Hello {name},','how are you??')"
   ]
  },
  {
   "cell_type": "code",
   "execution_count": 82,
   "id": "4c93f31f-6e08-4776-b99f-d1c0d5fdf0f3",
   "metadata": {},
   "outputs": [
    {
     "name": "stdout",
     "output_type": "stream",
     "text": [
      "Hello Roshni, how are you??\n"
     ]
    }
   ],
   "source": [
    "say_hello('Roshni')"
   ]
  },
  {
   "cell_type": "code",
   "execution_count": 83,
   "id": "5da5e8eb-c519-4049-a584-1dda2415593b",
   "metadata": {},
   "outputs": [],
   "source": [
    "def vote(age):\n",
    "  print('can Vote!!') if age >= 18 else print('can not Vote!!')"
   ]
  },
  {
   "cell_type": "code",
   "execution_count": 84,
   "id": "0e6a0e83-39f4-48a1-99d5-42dec18b461e",
   "metadata": {},
   "outputs": [
    {
     "name": "stdout",
     "output_type": "stream",
     "text": [
      "can Vote!!\n"
     ]
    }
   ],
   "source": [
    "vote(45)"
   ]
  },
  {
   "cell_type": "code",
   "execution_count": 85,
   "id": "59dbcd1a-4570-40b9-ac32-2bff9e0ea455",
   "metadata": {},
   "outputs": [],
   "source": [
    "def sound_box(paisa,platform = 'Paytm'):\n",
    "    from gtts import gTTS\n",
    "    text  = f'''{platform} par {paisa} rs Prapt hue.'''\n",
    "    audio = gTTS(text)\n",
    "    audio.save('paytm.mp3')\n",
    "\n",
    "    import pygame as p\n",
    "    p.init()\n",
    "\n",
    "    music = p.mixer.Sound('paytm.mp3')\n",
    "    music.play()"
   ]
  },
  {
   "cell_type": "code",
   "execution_count": 90,
   "id": "98a21a18-eadc-406c-9989-1b5959ce252f",
   "metadata": {},
   "outputs": [],
   "source": [
    "sound_box(5677675645398798786876786675675646545423400)"
   ]
  },
  {
   "cell_type": "code",
   "execution_count": null,
   "id": "089e1a39-1aa5-48e4-b5a5-1570c91cc4ec",
   "metadata": {},
   "outputs": [],
   "source": []
  }
 ],
 "metadata": {
  "kernelspec": {
   "display_name": "Python 3 (ipykernel)",
   "language": "python",
   "name": "python3"
  },
  "language_info": {
   "codemirror_mode": {
    "name": "ipython",
    "version": 3
   },
   "file_extension": ".py",
   "mimetype": "text/x-python",
   "name": "python",
   "nbconvert_exporter": "python",
   "pygments_lexer": "ipython3",
   "version": "3.13.5"
  }
 },
 "nbformat": 4,
 "nbformat_minor": 5
}
