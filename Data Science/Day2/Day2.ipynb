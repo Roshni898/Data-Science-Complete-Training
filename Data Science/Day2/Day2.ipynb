{
 "cells": [
  {
   "cell_type": "code",
   "execution_count": 1,
   "id": "ab0e8c7b-fbe1-4bd7-b541-13aa9903c6a6",
   "metadata": {},
   "outputs": [],
   "source": [
    "def check_palindrome(word):\n",
    "    return word"
   ]
  },
  {
   "cell_type": "code",
   "execution_count": 2,
   "id": "bbdf1d39-196f-4385-a301-f1a4b3ab747e",
   "metadata": {},
   "outputs": [
    {
     "data": {
      "text/plain": [
       "'Ajay'"
      ]
     },
     "execution_count": 2,
     "metadata": {},
     "output_type": "execute_result"
    }
   ],
   "source": [
    "check_palindrome('Ajay')"
   ]
  },
  {
   "cell_type": "code",
   "execution_count": 3,
   "id": "ac0d4fd7-972d-4a8c-873f-68e0b6eaa40f",
   "metadata": {},
   "outputs": [
    {
     "data": {
      "text/plain": [
       "'ykcul'"
      ]
     },
     "execution_count": 3,
     "metadata": {},
     "output_type": "execute_result"
    }
   ],
   "source": [
    "a='lucky'\n",
    "a[::-1]"
   ]
  },
  {
   "cell_type": "code",
   "execution_count": 5,
   "id": "c92d0f85-7ff7-4fe5-ad60-b25c03400d73",
   "metadata": {},
   "outputs": [
    {
     "name": "stdout",
     "output_type": "stream",
     "text": [
      "nitin is a palindrome\n"
     ]
    }
   ],
   "source": [
    "a='nitin'\n",
    "if a==a[::-1]:\n",
    "    print(f'{a} is a palindrome')\n",
    "else:\n",
    "    print(f'{a} is not a palindrome')"
   ]
  },
  {
   "cell_type": "code",
   "execution_count": 7,
   "id": "5cf57fd5-fa5c-49d2-92c3-227a2fa7c39a",
   "metadata": {},
   "outputs": [],
   "source": [
    "def check_palindrome(word):\n",
    "    word=word.upper()\n",
    "    if word==word[::-1]:\n",
    "        return 'Palindrome'\n",
    "    else:\n",
    "        return 'Not a Palindrome'"
   ]
  },
  {
   "cell_type": "code",
   "execution_count": 8,
   "id": "a23ffee6-32d1-4528-9fb6-adb1c21778a4",
   "metadata": {},
   "outputs": [
    {
     "data": {
      "text/plain": [
       "'Palindrome'"
      ]
     },
     "execution_count": 8,
     "metadata": {},
     "output_type": "execute_result"
    }
   ],
   "source": [
    "check_palindrome('Nitin')"
   ]
  },
  {
   "cell_type": "code",
   "execution_count": 125,
   "id": "ad3a609d-5618-4553-802e-68ed5dd209f2",
   "metadata": {},
   "outputs": [],
   "source": [
    "def check_palindrome(word:str):\n",
    "    if type(word) == str:\n",
    "        word=word.upper()\n",
    "        if word==word[::-1]:\n",
    "            return 'Palindrome'\n",
    "        else:\n",
    "            return 'Not a Palindrome'\n",
    "    else:\n",
    "        return 'Invalid Data type'"
   ]
  },
  {
   "cell_type": "code",
   "execution_count": 126,
   "id": "7b7f803d-5a89-4b10-b928-6bd26a3a1231",
   "metadata": {},
   "outputs": [
    {
     "data": {
      "text/plain": [
       "'Not a Palindrome'"
      ]
     },
     "execution_count": 126,
     "metadata": {},
     "output_type": "execute_result"
    }
   ],
   "source": [
    "check_palindrome('harry')"
   ]
  },
  {
   "cell_type": "code",
   "execution_count": 19,
   "id": "c05164ed-b901-43a3-bbfe-08832d928785",
   "metadata": {},
   "outputs": [],
   "source": [
    "def give_fibo(n):\n",
    "    fibo=[0,1]\n",
    "    for i in range(n-2):\n",
    "        last_num = fibo[-1]\n",
    "        second_last_num=fibo[-2]\n",
    "        next_num = last_num+second_last_num\n",
    "        fibo.append(next_num)\n",
    "    return fibo\n",
    "        "
   ]
  },
  {
   "cell_type": "code",
   "execution_count": 20,
   "id": "097158fb-1437-4c0c-bef0-bf95abbd9b64",
   "metadata": {},
   "outputs": [
    {
     "name": "stdout",
     "output_type": "stream",
     "text": [
      "[0, 1, 1, 2, 3, 5, 8, 13, 21, 34]\n"
     ]
    }
   ],
   "source": [
    "print(give_fibo(10))"
   ]
  },
  {
   "cell_type": "code",
   "execution_count": 23,
   "id": "cbcc5536-935e-4b13-84d5-c8478add3a06",
   "metadata": {},
   "outputs": [],
   "source": [
    "def check_prime(number):\n",
    "    for i in range(2,number):\n",
    "        if number % i==0:\n",
    "            return 'Not a Prime Number'\n",
    "            break\n",
    "    else:\n",
    "        return 'Prime Number'"
   ]
  },
  {
   "cell_type": "code",
   "execution_count": 24,
   "id": "043acacc-7843-4552-85e3-5408e9c78eee",
   "metadata": {},
   "outputs": [
    {
     "data": {
      "text/plain": [
       "'Not a Prime Number'"
      ]
     },
     "execution_count": 24,
     "metadata": {},
     "output_type": "execute_result"
    }
   ],
   "source": [
    "check_prime(22)"
   ]
  },
  {
   "cell_type": "code",
   "execution_count": 26,
   "id": "bf32c644-3bad-49d7-8aec-3cee3d52e76c",
   "metadata": {},
   "outputs": [
    {
     "name": "stdout",
     "output_type": "stream",
     "text": [
      "* \n",
      "* * \n",
      "* * * \n",
      "* * * * \n",
      "* * * * * \n"
     ]
    }
   ],
   "source": [
    "n=5\n",
    "for i in range(1,n+1):\n",
    "    print(i * '* ')"
   ]
  },
  {
   "cell_type": "code",
   "execution_count": 29,
   "id": "72db6984-ae75-45ec-b94f-4852ce56e004",
   "metadata": {},
   "outputs": [
    {
     "name": "stdout",
     "output_type": "stream",
     "text": [
      "    * \n",
      "   * * \n",
      "  * * * \n",
      " * * * * \n",
      "* * * * * \n"
     ]
    }
   ],
   "source": [
    "n=5\n",
    "\n",
    "for i in range(1,n+1):\n",
    "    print(' '*(n-i) +i*'* ')"
   ]
  },
  {
   "cell_type": "code",
   "execution_count": 30,
   "id": "4e012208-aff2-4d80-93b6-7243e89657ab",
   "metadata": {},
   "outputs": [],
   "source": [
    "def print_star(n =5 , typ='left'):\n",
    "    for i in range(1,n+1):\n",
    "        print(' '*(n-i) + i*'* ')"
   ]
  },
  {
   "cell_type": "code",
   "execution_count": 31,
   "id": "9dc6a2c2-799a-4d8d-9d3d-2a8e35a05fcc",
   "metadata": {},
   "outputs": [
    {
     "name": "stdout",
     "output_type": "stream",
     "text": [
      "  * \n",
      " * * \n",
      "* * * \n"
     ]
    }
   ],
   "source": [
    "print_star(3)"
   ]
  },
  {
   "cell_type": "code",
   "execution_count": 46,
   "id": "1f765ba9-f65e-4d88-a115-1215c7626a41",
   "metadata": {},
   "outputs": [],
   "source": [
    "def print_star(n=5, typ='left'):\n",
    "    if typ =='left':\n",
    "        space =''\n",
    "    elif typ == 'right':\n",
    "        space ='  '\n",
    "    elif typ == 'mid':\n",
    "        space = ' '\n",
    "\n",
    "    for i in range(1,n+1):\n",
    "        print(space*(n-i) +i*'* ')"
   ]
  },
  {
   "cell_type": "code",
   "execution_count": 95,
   "id": "ba80711e-decc-4c52-90b1-15bb54a6b5ba",
   "metadata": {},
   "outputs": [
    {
     "name": "stdout",
     "output_type": "stream",
     "text": [
      "*\n",
      "**\n",
      "***\n",
      "****\n"
     ]
    }
   ],
   "source": [
    "print_star(4)"
   ]
  },
  {
   "cell_type": "code",
   "execution_count": 92,
   "id": "6d541152-5a5c-4151-8dcb-ebe2ef29c146",
   "metadata": {},
   "outputs": [],
   "source": [
    "def print_star(n=5, typ='left',shape='*'):\n",
    "    if typ =='left':\n",
    "        space =''\n",
    "    elif typ == 'right':\n",
    "        space =' '\n",
    "    elif typ == 'mid':\n",
    "        space = '  '\n",
    "\n",
    "    for i in range(1,n+1):\n",
    "        print(space*(n-i) +i*f'{shape}')"
   ]
  },
  {
   "cell_type": "code",
   "execution_count": 94,
   "id": "867fc74e-5872-4d4e-86f2-46cd635e4bbf",
   "metadata": {},
   "outputs": [
    {
     "name": "stdout",
     "output_type": "stream",
     "text": [
      "       iitm\n",
      "     iitm iitm\n",
      "   iitm iitm iitm\n",
      " iitm iitm iitm iitm\n"
     ]
    }
   ],
   "source": [
    "print_star(4,'mid',' iitm')"
   ]
  },
  {
   "cell_type": "code",
   "execution_count": 63,
   "id": "da53f6b6-6074-4d22-81fe-0a738485347a",
   "metadata": {},
   "outputs": [],
   "source": [
    "def sum_of_n_natural_number(n):\n",
    "    result = 0\n",
    "    for i in range(1,n+1):\n",
    "        result += i\n",
    "    return result\n",
    "    "
   ]
  },
  {
   "cell_type": "code",
   "execution_count": 64,
   "id": "bcddad98-3c9c-48fc-9256-e33bb8e301ba",
   "metadata": {},
   "outputs": [
    {
     "data": {
      "text/plain": [
       "55"
      ]
     },
     "execution_count": 64,
     "metadata": {},
     "output_type": "execute_result"
    }
   ],
   "source": [
    "sum_of_n_natural_number(10)"
   ]
  },
  {
   "cell_type": "code",
   "execution_count": 65,
   "id": "fc4912d3-9c1f-4ebd-ac3a-01ab5547ae09",
   "metadata": {},
   "outputs": [],
   "source": [
    "def factorial(n):\n",
    "    result = 1\n",
    "    for i in range (1,n+1):\n",
    "        result *= i\n",
    "    return result"
   ]
  },
  {
   "cell_type": "code",
   "execution_count": 69,
   "id": "978f7bd1-2fc1-40e6-b751-8f4a89606efc",
   "metadata": {},
   "outputs": [
    {
     "data": {
      "text/plain": [
       "3628800"
      ]
     },
     "execution_count": 69,
     "metadata": {},
     "output_type": "execute_result"
    }
   ],
   "source": [
    "factorial(10)"
   ]
  },
  {
   "cell_type": "code",
   "execution_count": 78,
   "id": "72f2e052-8be5-4460-9208-b36ab0d9e04e",
   "metadata": {},
   "outputs": [],
   "source": [
    "def total_sales(*args):\n",
    "    #unpacking\n",
    "    result = 0\n",
    "    for i in args:\n",
    "        result +=i\n",
    "    return result\n",
    "    "
   ]
  },
  {
   "cell_type": "code",
   "execution_count": 79,
   "id": "11d4f80c-0cf0-4389-af71-6a6c83b77ae7",
   "metadata": {},
   "outputs": [
    {
     "data": {
      "text/plain": [
       "153"
      ]
     },
     "execution_count": 79,
     "metadata": {},
     "output_type": "execute_result"
    }
   ],
   "source": [
    "total_sales(1,2,4,56,90)"
   ]
  },
  {
   "cell_type": "code",
   "execution_count": 86,
   "id": "1ce126b3-e5f9-45fd-9f30-33f344e2536a",
   "metadata": {},
   "outputs": [],
   "source": [
    "sales=[46,84,12,92,53]\n"
   ]
  },
  {
   "cell_type": "code",
   "execution_count": 89,
   "id": "70917daf-21f0-4591-9af0-f8f324df0ffe",
   "metadata": {},
   "outputs": [
    {
     "name": "stdout",
     "output_type": "stream",
     "text": [
      "12\n"
     ]
    }
   ],
   "source": [
    "min_element = sales[0]\n",
    "for i in sales[1:]:\n",
    "    if i < min_element:\n",
    "        min_element = i\n",
    "print(min_element)"
   ]
  },
  {
   "cell_type": "code",
   "execution_count": 99,
   "id": "9a6db48e-764e-437a-ac43-7ed700783fb1",
   "metadata": {},
   "outputs": [],
   "source": [
    "def minn(*data):\n",
    "    min_ele = data[0]\n",
    "    for i in data[1:]:\n",
    "        if i < min_ele:\n",
    "            min_ele = i\n",
    "    return (min_ele)"
   ]
  },
  {
   "cell_type": "code",
   "execution_count": 101,
   "id": "3e00d072-fd5b-4701-8be2-bb7f619655c5",
   "metadata": {},
   "outputs": [
    {
     "data": {
      "text/plain": [
       "1"
      ]
     },
     "execution_count": 101,
     "metadata": {},
     "output_type": "execute_result"
    }
   ],
   "source": [
    "minn(37,78,38,73,92,1,82)"
   ]
  },
  {
   "cell_type": "code",
   "execution_count": 104,
   "id": "4549172d-b876-4d2b-8ec2-6772559d2afd",
   "metadata": {},
   "outputs": [],
   "source": [
    "def maxx(*data):\n",
    "    max_ele = data[0]\n",
    "    for i in data[1:]:\n",
    "        if i > max_ele:\n",
    "            max_ele = i\n",
    "    return (max_ele)"
   ]
  },
  {
   "cell_type": "code",
   "execution_count": 105,
   "id": "eac97133-dd34-4e87-9d95-4130b03b9374",
   "metadata": {},
   "outputs": [
    {
     "data": {
      "text/plain": [
       "92"
      ]
     },
     "execution_count": 105,
     "metadata": {},
     "output_type": "execute_result"
    }
   ],
   "source": [
    "maxx(37,29,28,92,37,73,83)"
   ]
  },
  {
   "cell_type": "code",
   "execution_count": 107,
   "id": "1dd668a2-c3ff-4018-9f5a-67662fa0a1ed",
   "metadata": {},
   "outputs": [],
   "source": [
    "company=['ola','uber','rapido','Indrive','adani','tata']\n",
    "def add_hashtag(*company):\n",
    "    result = []\n",
    "    for i in company:\n",
    "        result.append('#'+ i.upper())\n",
    "    return result"
   ]
  },
  {
   "cell_type": "code",
   "execution_count": 109,
   "id": "7973e578-8a68-4ccb-b862-b1fae55dcfa6",
   "metadata": {},
   "outputs": [
    {
     "data": {
      "text/plain": [
       "['#OLA', '#TATA']"
      ]
     },
     "execution_count": 109,
     "metadata": {},
     "output_type": "execute_result"
    }
   ],
   "source": [
    "add_hashtag('ola','tata')"
   ]
  },
  {
   "cell_type": "code",
   "execution_count": 110,
   "id": "e84991c0-41a1-49ee-b421-dac43726b7b9",
   "metadata": {},
   "outputs": [
    {
     "data": {
      "text/plain": [
       "['#OLA', '#UBER', '#RAPIDO', '#INDRIVE', '#ADANI', '#TATA']"
      ]
     },
     "execution_count": 110,
     "metadata": {},
     "output_type": "execute_result"
    }
   ],
   "source": [
    "add_hashtag(*company)"
   ]
  },
  {
   "cell_type": "code",
   "execution_count": 116,
   "id": "0c6849fc-0318-4862-875b-505dfaf9e377",
   "metadata": {},
   "outputs": [],
   "source": [
    "def store_records(name,age,sec,roll_no,Class):\n",
    "    data = {'Name':name,'Age':age,'Sec':sec,'Roll_no':roll_no,'Class':Class}\n",
    "    import pandas as pd\n",
    "    result = pd.DataFrame(data,index = [1])\n",
    "    return result"
   ]
  },
  {
   "cell_type": "code",
   "execution_count": 117,
   "id": "d5cc5a05-258a-46e4-b86c-6b1ef812b87f",
   "metadata": {},
   "outputs": [
    {
     "data": {
      "text/html": [
       "<div>\n",
       "<style scoped>\n",
       "    .dataframe tbody tr th:only-of-type {\n",
       "        vertical-align: middle;\n",
       "    }\n",
       "\n",
       "    .dataframe tbody tr th {\n",
       "        vertical-align: top;\n",
       "    }\n",
       "\n",
       "    .dataframe thead th {\n",
       "        text-align: right;\n",
       "    }\n",
       "</style>\n",
       "<table border=\"1\" class=\"dataframe\">\n",
       "  <thead>\n",
       "    <tr style=\"text-align: right;\">\n",
       "      <th></th>\n",
       "      <th>Name</th>\n",
       "      <th>Age</th>\n",
       "      <th>Sec</th>\n",
       "      <th>Roll_no</th>\n",
       "      <th>Class</th>\n",
       "    </tr>\n",
       "  </thead>\n",
       "  <tbody>\n",
       "    <tr>\n",
       "      <th>1</th>\n",
       "      <td>Karan</td>\n",
       "      <td>20</td>\n",
       "      <td>A</td>\n",
       "      <td>12</td>\n",
       "      <td>12</td>\n",
       "    </tr>\n",
       "  </tbody>\n",
       "</table>\n",
       "</div>"
      ],
      "text/plain": [
       "    Name  Age Sec  Roll_no  Class\n",
       "1  Karan   20   A       12     12"
      ]
     },
     "metadata": {},
     "output_type": "display_data"
    },
    {
     "data": {
      "text/html": [
       "<div>\n",
       "<style scoped>\n",
       "    .dataframe tbody tr th:only-of-type {\n",
       "        vertical-align: middle;\n",
       "    }\n",
       "\n",
       "    .dataframe tbody tr th {\n",
       "        vertical-align: top;\n",
       "    }\n",
       "\n",
       "    .dataframe thead th {\n",
       "        text-align: right;\n",
       "    }\n",
       "</style>\n",
       "<table border=\"1\" class=\"dataframe\">\n",
       "  <thead>\n",
       "    <tr style=\"text-align: right;\">\n",
       "      <th></th>\n",
       "      <th>Name</th>\n",
       "      <th>Age</th>\n",
       "      <th>Sec</th>\n",
       "      <th>Roll_no</th>\n",
       "      <th>Class</th>\n",
       "    </tr>\n",
       "  </thead>\n",
       "  <tbody>\n",
       "    <tr>\n",
       "      <th>1</th>\n",
       "      <td>Karan</td>\n",
       "      <td>20</td>\n",
       "      <td>A</td>\n",
       "      <td>12</td>\n",
       "      <td>12</td>\n",
       "    </tr>\n",
       "  </tbody>\n",
       "</table>\n",
       "</div>"
      ],
      "text/plain": [
       "    Name  Age Sec  Roll_no  Class\n",
       "1  Karan   20   A       12     12"
      ]
     },
     "metadata": {},
     "output_type": "display_data"
    },
    {
     "data": {
      "text/html": [
       "<div>\n",
       "<style scoped>\n",
       "    .dataframe tbody tr th:only-of-type {\n",
       "        vertical-align: middle;\n",
       "    }\n",
       "\n",
       "    .dataframe tbody tr th {\n",
       "        vertical-align: top;\n",
       "    }\n",
       "\n",
       "    .dataframe thead th {\n",
       "        text-align: right;\n",
       "    }\n",
       "</style>\n",
       "<table border=\"1\" class=\"dataframe\">\n",
       "  <thead>\n",
       "    <tr style=\"text-align: right;\">\n",
       "      <th></th>\n",
       "      <th>Name</th>\n",
       "      <th>Age</th>\n",
       "      <th>Sec</th>\n",
       "      <th>Roll_no</th>\n",
       "      <th>Class</th>\n",
       "    </tr>\n",
       "  </thead>\n",
       "  <tbody>\n",
       "    <tr>\n",
       "      <th>1</th>\n",
       "      <td>Karan</td>\n",
       "      <td>20</td>\n",
       "      <td>A</td>\n",
       "      <td>12</td>\n",
       "      <td>12</td>\n",
       "    </tr>\n",
       "  </tbody>\n",
       "</table>\n",
       "</div>"
      ],
      "text/plain": [
       "    Name  Age Sec  Roll_no  Class\n",
       "1  Karan   20   A       12     12"
      ]
     },
     "metadata": {},
     "output_type": "display_data"
    }
   ],
   "source": [
    "display(store_records('Karan',20,'A',12,12))\n",
    "display(store_records('Karan',20,'A',12,12))\n",
    "display(store_records('Karan',20,'A',12,12))"
   ]
  },
  {
   "cell_type": "code",
   "execution_count": 122,
   "id": "41fe730a-4e74-43c8-b1d5-d875b25e0b01",
   "metadata": {},
   "outputs": [],
   "source": [
    "def students_records(**kwargs):\n",
    "   import pandas as pd\n",
    "try:\n",
    "    result=pd.DataFrame(kwargs)\n",
    "    return result\n",
    "except:\n",
    "    result=pd.DataFrame(kwargs,index"
   ]
  },
  {
   "cell_type": "code",
   "execution_count": 124,
   "id": "8b426eb1-39b1-4731-96fe-519cbe8ffa0a",
   "metadata": {},
   "outputs": [
    {
     "data": {
      "text/html": [
       "<div>\n",
       "<style scoped>\n",
       "    .dataframe tbody tr th:only-of-type {\n",
       "        vertical-align: middle;\n",
       "    }\n",
       "\n",
       "    .dataframe tbody tr th {\n",
       "        vertical-align: top;\n",
       "    }\n",
       "\n",
       "    .dataframe thead th {\n",
       "        text-align: right;\n",
       "    }\n",
       "</style>\n",
       "<table border=\"1\" class=\"dataframe\">\n",
       "  <thead>\n",
       "    <tr style=\"text-align: right;\">\n",
       "      <th></th>\n",
       "      <th>name</th>\n",
       "      <th>age</th>\n",
       "      <th>sec</th>\n",
       "      <th>roll_no</th>\n",
       "      <th>address</th>\n",
       "    </tr>\n",
       "  </thead>\n",
       "  <tbody>\n",
       "    <tr>\n",
       "      <th>1</th>\n",
       "      <td>riya</td>\n",
       "      <td>23</td>\n",
       "      <td>A</td>\n",
       "      <td>14</td>\n",
       "      <td>Palam</td>\n",
       "    </tr>\n",
       "  </tbody>\n",
       "</table>\n",
       "</div>"
      ],
      "text/plain": [
       "   name  age sec  roll_no address\n",
       "1  riya   23   A       14   Palam"
      ]
     },
     "execution_count": 124,
     "metadata": {},
     "output_type": "execute_result"
    }
   ],
   "source": [
    "students_records(name= 'riya', age=23, sec= 'A', roll_no=14, address='Palam')"
   ]
  },
  {
   "cell_type": "code",
   "execution_count": 127,
   "id": "45954ae3-b186-4562-9fe6-a78d4cd7b8d1",
   "metadata": {},
   "outputs": [
    {
     "ename": "SyntaxError",
     "evalue": "invalid non-printable character U+00A0 (1201476940.py, line 11)",
     "output_type": "error",
     "traceback": [
      "\u001b[1;36m  Cell \u001b[1;32mIn[127], line 11\u001b[1;36m\u001b[0m\n\u001b[1;33m    music.play()\u001b[0m\n\u001b[1;37m    ^\u001b[0m\n\u001b[1;31mSyntaxError\u001b[0m\u001b[1;31m:\u001b[0m invalid non-printable character U+00A0\n"
     ]
    }
   ],
   "source": [
    " def sound_box(paisa,platform = 'Paytm'):\n",
    "    from gtts import gTTS\n",
    "    text  = f'''{platform} par {paisa} rs Prapt hue.'''\n",
    "    audio = gTTS(text)\n",
    "    audio.save('paytm.mp3')\n",
    "\n",
    "    import pygame as p\n",
    "    p.init()\n",
    "\n",
    "    music = p.mixer.Sound('paytm.mp3')\n",
    "    music.play()       "
   ]
  },
  {
   "cell_type": "code",
   "execution_count": null,
   "id": "8439bed3-bfee-4fd4-8664-e1a9a8907e4b",
   "metadata": {},
   "outputs": [],
   "source": [
    "\n"
   ]
  }
 ],
 "metadata": {
  "kernelspec": {
   "display_name": "Python 3 (ipykernel)",
   "language": "python",
   "name": "python3"
  },
  "language_info": {
   "codemirror_mode": {
    "name": "ipython",
    "version": 3
   },
   "file_extension": ".py",
   "mimetype": "text/x-python",
   "name": "python",
   "nbconvert_exporter": "python",
   "pygments_lexer": "ipython3",
   "version": "3.13.5"
  }
 },
 "nbformat": 4,
 "nbformat_minor": 5
}
