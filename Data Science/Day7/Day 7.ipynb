{
 "cells": [
  {
   "cell_type": "markdown",
   "id": "9f7e24d9-a472-4656-9cd2-b558797eac70",
   "metadata": {},
   "source": [
    "# Inheritance"
   ]
  },
  {
   "cell_type": "code",
   "execution_count": null,
   "id": "6ff7a165-6e70-4e05-b1e3-d07d45bea305",
   "metadata": {},
   "outputs": [],
   "source": [
    "#simple inheritance\n",
    "#Multiple inheritance\n",
    "#Multilevel inheritance\n",
    "#Hybrid inheritance"
   ]
  },
  {
   "cell_type": "code",
   "execution_count": null,
   "id": "852dbbc9-9359-471f-99e5-cb675f47aab9",
   "metadata": {},
   "outputs": [],
   "source": [
    "#Simple Inheritance(single)\n",
    "#inherit one class"
   ]
  },
  {
   "cell_type": "code",
   "execution_count": 3,
   "id": "d4b148ca-3816-40db-a34d-55178ce123f1",
   "metadata": {},
   "outputs": [],
   "source": [
    "#class \n",
    "class BMW:   #parent class,main class,Super class , Base class\n",
    "    def super_turbo_engine(self):\n",
    "        print('suoer_turbo_engine Fast Speed')\n",
    "class Audi(BMW): #Child class,sSub class\n",
    "    def auto_pilot(self):\n",
    "        print('Can run on Auto Pilot Mode!!')"
   ]
  },
  {
   "cell_type": "code",
   "execution_count": 4,
   "id": "67a30975-0f18-49b3-b224-eac7a622eb40",
   "metadata": {},
   "outputs": [],
   "source": [
    "audi_r8=Audi()"
   ]
  },
  {
   "cell_type": "code",
   "execution_count": 5,
   "id": "dc1cb1a8-92a7-4df7-a66c-be450679818c",
   "metadata": {},
   "outputs": [
    {
     "name": "stdout",
     "output_type": "stream",
     "text": [
      "Can run on Auto Pilot Mode!!\n"
     ]
    }
   ],
   "source": [
    "audi_r8.auto_pilot()"
   ]
  },
  {
   "cell_type": "code",
   "execution_count": 6,
   "id": "a07d83c4-36ac-49c2-b7fd-b8a58cb28c47",
   "metadata": {},
   "outputs": [
    {
     "name": "stdout",
     "output_type": "stream",
     "text": [
      "suoer_turbo_engine Fast Speed\n"
     ]
    }
   ],
   "source": [
    "audi_r8.super_turbo_engine()"
   ]
  },
  {
   "cell_type": "code",
   "execution_count": null,
   "id": "cd9571d5-3346-4b47-9336-a812f4cc900f",
   "metadata": {},
   "outputs": [],
   "source": [
    "#Multiple inheritance"
   ]
  },
  {
   "cell_type": "code",
   "execution_count": 20,
   "id": "d07f3205-2d5a-4a5f-949e-fe134295b274",
   "metadata": {},
   "outputs": [],
   "source": [
    "class Daily_Object:\n",
    "    def phone_case(self):\n",
    "        print('Strong Build Phone case')\n",
    "class JBL:\n",
    "    def sonic_speaker(self):\n",
    "        print('High Quality Sound Speaker')\n",
    "class Samsung:\n",
    "    def screen_display(self):\n",
    "        print('4k HD Display')\n",
    "class Nvidia:\n",
    "    def motherboard(self):\n",
    "        print('Fast motherboard')\n",
    "class Sony:\n",
    "    def camera(self):\n",
    "        print('4k camra')\n",
    "class Lava:\n",
    "    def charger(self):\n",
    "        print('Superfast charger from Lava')\n",
    "class One_Plus:\n",
    "    def charger(self):\n",
    "        print('Original super fast charger from One_Plus')\n",
    "class Mobile(Daily_Object,JBL,Samsung,Nvidia,Sony,Lava,One_Plus):\n",
    "    def __init__(self):\n",
    "        print('Phone object created successfully!!')\n",
    "    def charger(self):\n",
    "        print('Actual charger from mobile')\n",
    "\n"
   ]
  },
  {
   "cell_type": "code",
   "execution_count": 21,
   "id": "76e8be15-0a55-486e-988a-c54e622a063d",
   "metadata": {},
   "outputs": [
    {
     "name": "stdout",
     "output_type": "stream",
     "text": [
      "Phone object created successfully!!\n"
     ]
    }
   ],
   "source": [
    "nothing=Mobile()"
   ]
  },
  {
   "cell_type": "code",
   "execution_count": 18,
   "id": "4d97170f-3cb3-40fd-ba46-259863d220f0",
   "metadata": {},
   "outputs": [
    {
     "name": "stdout",
     "output_type": "stream",
     "text": [
      "4k camra\n"
     ]
    }
   ],
   "source": [
    "nothing.camera()\n"
   ]
  },
  {
   "cell_type": "code",
   "execution_count": 22,
   "id": "47efe67e-7461-4b57-9720-c5e8726130f7",
   "metadata": {},
   "outputs": [
    {
     "name": "stdout",
     "output_type": "stream",
     "text": [
      "Actual charger from mobile\n"
     ]
    }
   ],
   "source": [
    "nothing.charger()"
   ]
  },
  {
   "cell_type": "code",
   "execution_count": null,
   "id": "a08e886d-13a7-4d58-8232-86bff64f3097",
   "metadata": {},
   "outputs": [],
   "source": [
    "#Multilevel inheritance"
   ]
  },
  {
   "cell_type": "code",
   "execution_count": 23,
   "id": "386d0f99-c4c9-4a81-9f04-124387a2111f",
   "metadata": {},
   "outputs": [],
   "source": [
    "class GrandFather:       #superclass\n",
    "    def land_property(self):\n",
    "        print('Land Property!!')\n",
    "class Father(GrandFather):\n",
    "    def bank_balance(self):\n",
    "        print('Big Money Player, Huge Bank Balance')\n",
    "class Son(Father):\n",
    "    def political_power(self):\n",
    "        print('Political Power')\n",
    "class GrandSon(Son):\n",
    "    def mind(self):\n",
    "        print('Mind for self study')\n",
    "class Friend(GrandSon):\n",
    "    def __init__(self):\n",
    "        print('Nothing!!')"
   ]
  },
  {
   "cell_type": "code",
   "execution_count": 24,
   "id": "b6fdc085-5f9f-460c-af17-1cec00420da0",
   "metadata": {},
   "outputs": [
    {
     "name": "stdout",
     "output_type": "stream",
     "text": [
      "Done\n"
     ]
    }
   ],
   "source": [
    "aman = GrandSon()\n",
    "print('Done')"
   ]
  },
  {
   "cell_type": "code",
   "execution_count": 25,
   "id": "4c9052c0-306f-4bc3-b063-a82ba2f3eebd",
   "metadata": {},
   "outputs": [
    {
     "name": "stdout",
     "output_type": "stream",
     "text": [
      "Big Money Player, Huge Bank Balance\n"
     ]
    }
   ],
   "source": [
    "aman.bank_balance()"
   ]
  },
  {
   "cell_type": "code",
   "execution_count": 26,
   "id": "87559753-9eed-430d-ac9f-8f818be2ee47",
   "metadata": {},
   "outputs": [
    {
     "name": "stdout",
     "output_type": "stream",
     "text": [
      "Nothing!!\n"
     ]
    }
   ],
   "source": [
    "karan = Friend()"
   ]
  },
  {
   "cell_type": "code",
   "execution_count": 29,
   "id": "fd7d732d-ceb1-4399-9a06-2b31878fdf28",
   "metadata": {},
   "outputs": [
    {
     "name": "stdout",
     "output_type": "stream",
     "text": [
      "Mind for self study\n"
     ]
    }
   ],
   "source": [
    "karan.mind()"
   ]
  },
  {
   "cell_type": "code",
   "execution_count": null,
   "id": "83cd37a1-0d2a-43b4-be53-7664161ca686",
   "metadata": {},
   "outputs": [],
   "source": [
    " #Hybrid"
   ]
  },
  {
   "cell_type": "code",
   "execution_count": 31,
   "id": "ca7d27f2-0546-4aea-947e-01f791540f92",
   "metadata": {},
   "outputs": [],
   "source": [
    "class Hybrid_class(Mobile,Friend):  #Mobile(Multiple),Friend(Multilevel)\n",
    "    def __init__(self):\n",
    "        print('This is Hybrid Class')\n",
    "    def info(self):\n",
    "        print('It can call any methods!!')"
   ]
  },
  {
   "cell_type": "code",
   "execution_count": 32,
   "id": "161db96e-4717-418c-a548-d84b63d2ff08",
   "metadata": {},
   "outputs": [
    {
     "name": "stdout",
     "output_type": "stream",
     "text": [
      "This is Hybrid Class\n"
     ]
    }
   ],
   "source": [
    "ob = Hybrid_class()"
   ]
  },
  {
   "cell_type": "code",
   "execution_count": 33,
   "id": "76723cba-7823-444c-b473-918eca480761",
   "metadata": {},
   "outputs": [
    {
     "name": "stdout",
     "output_type": "stream",
     "text": [
      "4k HD Display\n"
     ]
    }
   ],
   "source": [
    "ob.screen_display()"
   ]
  },
  {
   "cell_type": "code",
   "execution_count": 34,
   "id": "a87f944b-022e-47b7-af6a-6bef2e2a5d11",
   "metadata": {},
   "outputs": [
    {
     "name": "stdout",
     "output_type": "stream",
     "text": [
      "It can call any methods!!\n"
     ]
    }
   ],
   "source": [
    "ob.info()"
   ]
  },
  {
   "cell_type": "code",
   "execution_count": 35,
   "id": "c1855ee6-03bc-4678-a9ba-fa13088ab98f",
   "metadata": {},
   "outputs": [],
   "source": [
    "class UGC:\n",
    "    def __int__(self):\n",
    "        print('Grand Permission')\n",
    "    def college_approval(self):\n",
    "        print('College has been approved')\n",
    "class DU(UGC):\n",
    "    def multiple_colleges(self):\n",
    "        print('List of colleges!!')\n",
    "class IP(UGC):\n",
    "     def multiple_colleges(self):\n",
    "        print('List of colleges!!')\n",
    "class DTU(UGC):\n",
    "     def multiple_colleges(self):\n",
    "        print('List of colleges!!')\n",
    "class BHU(UGC):\n",
    "     def multiple_colleges(self):\n",
    "        print('List of colleges!!')"
   ]
  },
  {
   "cell_type": "markdown",
   "id": "b93ec05e-702a-4a84-8d60-0202a44c672f",
   "metadata": {},
   "source": [
    "# polymorphism"
   ]
  },
  {
   "cell_type": "code",
   "execution_count": null,
   "id": "201d1e2e-b75a-41d6-a361-c8758f622bf5",
   "metadata": {},
   "outputs": [],
   "source": [
    "#single entity many forms"
   ]
  },
  {
   "cell_type": "code",
   "execution_count": 39,
   "id": "b71fbac3-3285-49b3-a6e3-231637e267b4",
   "metadata": {},
   "outputs": [
    {
     "data": {
      "text/plain": [
       "86"
      ]
     },
     "execution_count": 39,
     "metadata": {},
     "output_type": "execute_result"
    }
   ],
   "source": [
    "a=78\n",
    "b=8\n",
    "a+b"
   ]
  },
  {
   "cell_type": "code",
   "execution_count": 40,
   "id": "91219b6d-a03b-4059-ab0f-2b0741b3510e",
   "metadata": {},
   "outputs": [
    {
     "data": {
      "text/plain": [
       "'8945'"
      ]
     },
     "execution_count": 40,
     "metadata": {},
     "output_type": "execute_result"
    }
   ],
   "source": [
    "a='89'\n",
    "b='45'\n",
    "a+b"
   ]
  },
  {
   "cell_type": "code",
   "execution_count": 41,
   "id": "0272863c-c1c4-445d-ad52-8fa9cdee748b",
   "metadata": {},
   "outputs": [
    {
     "data": {
      "text/plain": [
       "[89, 48, 26, 48, 72, 84, 89, 15, 38, 37]"
      ]
     },
     "execution_count": 41,
     "metadata": {},
     "output_type": "execute_result"
    }
   ],
   "source": [
    "a=[89,48,26,48,72]\n",
    "b=[84,89,15,38,37]\n",
    "a+b"
   ]
  },
  {
   "cell_type": "code",
   "execution_count": 42,
   "id": "324a54e3-b7f0-4a0d-aa49-cb2b7e2ea6e0",
   "metadata": {},
   "outputs": [
    {
     "data": {
      "text/plain": [
       "5"
      ]
     },
     "execution_count": 42,
     "metadata": {},
     "output_type": "execute_result"
    }
   ],
   "source": [
    "a='herry'\n",
    "len(a)"
   ]
  },
  {
   "cell_type": "code",
   "execution_count": 43,
   "id": "243cf216-cfb1-47f1-a5c9-5214fd93e03c",
   "metadata": {},
   "outputs": [
    {
     "data": {
      "text/plain": [
       "2"
      ]
     },
     "execution_count": 43,
     "metadata": {},
     "output_type": "execute_result"
    }
   ],
   "source": [
    "a=['herry','rohit']\n",
    "len(a)"
   ]
  },
  {
   "cell_type": "code",
   "execution_count": 44,
   "id": "5156c89c-eec4-4f61-a4be-719877cd62ec",
   "metadata": {},
   "outputs": [
    {
     "ename": "TypeError",
     "evalue": "object of type 'int' has no len()",
     "output_type": "error",
     "traceback": [
      "\u001b[1;31m---------------------------------------------------------------------------\u001b[0m",
      "\u001b[1;31mTypeError\u001b[0m                                 Traceback (most recent call last)",
      "Cell \u001b[1;32mIn[44], line 2\u001b[0m\n\u001b[0;32m      1\u001b[0m a\u001b[38;5;241m=\u001b[39m\u001b[38;5;241m567\u001b[39m\n\u001b[1;32m----> 2\u001b[0m \u001b[38;5;28mlen\u001b[39m(a)\n",
      "\u001b[1;31mTypeError\u001b[0m: object of type 'int' has no len()"
     ]
    }
   ],
   "source": [
    "a=567\n",
    "len(a)"
   ]
  },
  {
   "cell_type": "code",
   "execution_count": 45,
   "id": "9d9dcd56-3b13-46df-80be-eeeb67e32f8a",
   "metadata": {},
   "outputs": [
    {
     "data": {
      "text/plain": [
       "3"
      ]
     },
     "execution_count": 45,
     "metadata": {},
     "output_type": "execute_result"
    }
   ],
   "source": [
    "def ste(a):\n",
    "    return str(a)\n",
    "a=ste(567)\n",
    "len(a)"
   ]
  },
  {
   "cell_type": "code",
   "execution_count": null,
   "id": "f15eb914-3a06-49ad-bfe8-794bd91800bf",
   "metadata": {},
   "outputs": [],
   "source": [
    "#overriding\n",
    "#overloading "
   ]
  },
  {
   "cell_type": "code",
   "execution_count": 46,
   "id": "95040b86-9710-4d13-a7ae-78602718e087",
   "metadata": {},
   "outputs": [
    {
     "name": "stdout",
     "output_type": "stream",
     "text": [
      "None <class 'NoneType'>\n"
     ]
    }
   ],
   "source": [
    "a=45\n",
    "a='45'\n",
    "a=None\n",
    "print(a,type(a))"
   ]
  },
  {
   "cell_type": "code",
   "execution_count": 50,
   "id": "fb0d83de-d9eb-4fe2-b330-4a4690d3a178",
   "metadata": {},
   "outputs": [
    {
     "name": "stdout",
     "output_type": "stream",
     "text": [
      "F1 Car speed:  Max speed 20km/hr\n",
      "F1 Car speed:  Max speed 250 km/hr\n",
      "F1 Car speed:  Max speed 300 km/hr\n"
     ]
    }
   ],
   "source": [
    "class Car:\n",
    "    def speed(self):\n",
    "        return('Max speed 20km/hr')\n",
    "    def auto_pilot(self):\n",
    "        return('it support Auto Pilot Mode')\n",
    "    def info(self):\n",
    "        return('This is just a car object')\n",
    "class Bmw(Car):\n",
    "    def speed(self):\n",
    "        return('Max speed 250 km/hr')\n",
    "    def info(self):\n",
    "        return('A Bmw car object')\n",
    "class Audi(Car):\n",
    "    def speed(self):\n",
    "        return('Max speed 300 km/hr')\n",
    "    def info(self):\n",
    "        return('Audi car')\n",
    "\n",
    "for i in [Car,Bmw,Audi]:\n",
    "    f1 = i()\n",
    "    print('F1 Car speed: ',f1.speed())\n",
    "    "
   ]
  },
  {
   "cell_type": "code",
   "execution_count": 51,
   "id": "5fb9a14c-c4c7-4298-9aee-7de9b5467ff9",
   "metadata": {},
   "outputs": [
    {
     "name": "stdout",
     "output_type": "stream",
     "text": [
      "Hello Komal,how are you??\n",
      "Your address isDelhi\n"
     ]
    }
   ],
   "source": [
    "class IITM:\n",
    "    def intro(self):\n",
    "        print('Hello Candidates!!')\n",
    "    def intro(self,name):\n",
    "        print(f'Hello {name},how are you??')\n",
    "    def intro(self,name,address):\n",
    "        print(f'Hello {name},how are you??')\n",
    "        print(f'Your address is{address}')\n",
    "a=IITM()\n",
    "a.intro('Komal','Delhi')"
   ]
  },
  {
   "cell_type": "code",
   "execution_count": 63,
   "id": "800a6802-6346-4ebd-b6b7-fdda08a55aae",
   "metadata": {},
   "outputs": [],
   "source": [
    "class IITM:\n",
    "    def intro(self,name=None,address=None):\n",
    "        if (name==None) and (address==None):\n",
    "            print('Hello candidate!!')\n",
    "        elif (name!=None):\n",
    "            print(f'Hello {name},how are you??')\n",
    "        elif (name!= None) and (address != None):\n",
    "            print(f'Hello {name},how are you??')\n",
    "            print(f'Your address is {address}')\n",
    "        else:\n",
    "            print('Hello buddy!!')"
   ]
  },
  {
   "cell_type": "code",
   "execution_count": 64,
   "id": "62a0d811-f4fd-4f31-8982-cc9df3ae0fa4",
   "metadata": {},
   "outputs": [],
   "source": [
    "a=IITM()"
   ]
  },
  {
   "cell_type": "code",
   "execution_count": 66,
   "id": "d6fed793-99b9-4df3-adfa-229f39ecd8de",
   "metadata": {},
   "outputs": [
    {
     "name": "stdout",
     "output_type": "stream",
     "text": [
      "Hello candidate!!\n"
     ]
    }
   ],
   "source": [
    "a.intro()"
   ]
  },
  {
   "cell_type": "code",
   "execution_count": 69,
   "id": "0f0e9239-e213-46da-98ec-2159a1cc3785",
   "metadata": {},
   "outputs": [
    {
     "name": "stdout",
     "output_type": "stream",
     "text": [
      "Hello roshni,how are you??\n"
     ]
    }
   ],
   "source": [
    "a.intro(name='roshni')"
   ]
  },
  {
   "cell_type": "code",
   "execution_count": 70,
   "id": "5d5dceec-4ac0-4d9c-b742-0fa7983265a1",
   "metadata": {},
   "outputs": [
    {
     "name": "stdout",
     "output_type": "stream",
     "text": [
      "Hello buddy!!\n"
     ]
    }
   ],
   "source": [
    "a.intro(address = 'rohini')"
   ]
  },
  {
   "cell_type": "code",
   "execution_count": 71,
   "id": "5c5ebafe-68cf-4457-8d65-5934df4e588a",
   "metadata": {},
   "outputs": [
    {
     "name": "stdout",
     "output_type": "stream",
     "text": [
      "Hello roshni,how are you??\n"
     ]
    }
   ],
   "source": [
    "a.intro('roshni','rohini')"
   ]
  },
  {
   "cell_type": "markdown",
   "id": "2d937846-0238-4ac9-9bbd-ead55f9ef19c",
   "metadata": {},
   "source": [
    "# Abstraction"
   ]
  },
  {
   "cell_type": "code",
   "execution_count": null,
   "id": "b8a6bb82-88ef-48f5-8702-db423381ec8e",
   "metadata": {},
   "outputs": [],
   "source": [
    "#idea\n",
    "#not a physical object\n",
    "#abstraction - project management \n",
    "#compulsory to impl"
   ]
  },
  {
   "cell_type": "code",
   "execution_count": null,
   "id": "ba4b2314-a407-46ba-a38b-903543acd160",
   "metadata": {},
   "outputs": [],
   "source": [
    "#idea\n",
    "#not a physical object\n",
    "# blue print(replica)\n",
    "#abstraction : Project management\n"
   ]
  },
  {
   "cell_type": "code",
   "execution_count": 74,
   "id": "89daf915-17f3-4cbc-8570-5b174c5f7f74",
   "metadata": {},
   "outputs": [
    {
     "ename": "TypeError",
     "evalue": "Can't instantiate abstract class Website without an implementation for abstract methods 'login', 'logout'",
     "output_type": "error",
     "traceback": [
      "\u001b[1;31m---------------------------------------------------------------------------\u001b[0m",
      "\u001b[1;31mTypeError\u001b[0m                                 Traceback (most recent call last)",
      "Cell \u001b[1;32mIn[74], line 12\u001b[0m\n\u001b[0;32m      9\u001b[0m     \u001b[38;5;129m@abstractmethod\u001b[39m   \n\u001b[0;32m     10\u001b[0m     \u001b[38;5;28;01mdef\u001b[39;00m\u001b[38;5;250m \u001b[39m\u001b[38;5;21mlogout\u001b[39m(\u001b[38;5;28mself\u001b[39m):\n\u001b[0;32m     11\u001b[0m         \u001b[38;5;28mprint\u001b[39m(\u001b[38;5;124m'\u001b[39m\u001b[38;5;124mA logout method\u001b[39m\u001b[38;5;124m'\u001b[39m)\n\u001b[1;32m---> 12\u001b[0m asus \u001b[38;5;241m=\u001b[39m Website()\n\u001b[0;32m     13\u001b[0m \u001b[38;5;28mprint\u001b[39m(\u001b[38;5;124m'\u001b[39m\u001b[38;5;124mDone\u001b[39m\u001b[38;5;124m'\u001b[39m)\n",
      "\u001b[1;31mTypeError\u001b[0m: Can't instantiate abstract class Website without an implementation for abstract methods 'login', 'logout'"
     ]
    }
   ],
   "source": [
    "from abc import ABC, abstractmethod     \n",
    "\n",
    "class Website(ABC):\n",
    "\n",
    "    @abstractmethod\n",
    "    def login(self):\n",
    "        print('This is a login method')\n",
    "\n",
    "    @abstractmethod   \n",
    "    def logout(self):\n",
    "        print('A logout method')\n",
    "asus = Website()\n",
    "print('Done')"
   ]
  },
  {
   "cell_type": "code",
   "execution_count": 77,
   "id": "5edca04b-5720-4770-8ecc-9b98f09154fd",
   "metadata": {},
   "outputs": [],
   "source": [
    "class Nakul(Website):\n",
    "    def signup(self):\n",
    "        print('user can Signup!!')\n",
    "    def login(self):\n",
    "        print('This is a login Form')\n",
    "    def logout(self):\n",
    "        print('use can logout')\n",
    "\n",
    "google = Nakul()\n",
    "\n",
    "        "
   ]
  },
  {
   "cell_type": "code",
   "execution_count": 78,
   "id": "47129e5b-ed55-433a-8adf-16386bce153f",
   "metadata": {},
   "outputs": [
    {
     "name": "stdout",
     "output_type": "stream",
     "text": [
      "user can Signup!!\n"
     ]
    }
   ],
   "source": [
    "google.signup()"
   ]
  },
  {
   "cell_type": "code",
   "execution_count": 79,
   "id": "32b020fb-3249-42c0-95b5-5d6eeedaceea",
   "metadata": {},
   "outputs": [
    {
     "name": "stdout",
     "output_type": "stream",
     "text": [
      "This is a login Form\n"
     ]
    }
   ],
   "source": [
    "google.login()"
   ]
  },
  {
   "cell_type": "code",
   "execution_count": null,
   "id": "ee5d5ac4-c9de-440d-a641-5c60f893ccd4",
   "metadata": {},
   "outputs": [],
   "source": []
  },
  {
   "cell_type": "code",
   "execution_count": null,
   "id": "157a295d-53a4-47d3-a187-8a0c808c9468",
   "metadata": {},
   "outputs": [],
   "source": []
  },
  {
   "cell_type": "code",
   "execution_count": null,
   "id": "9acfd015-e34b-4a0d-ae54-8e811be0e618",
   "metadata": {},
   "outputs": [],
   "source": []
  },
  {
   "cell_type": "code",
   "execution_count": null,
   "id": "6debc79e-5acc-45c1-a90c-4bf7dff9cd08",
   "metadata": {},
   "outputs": [],
   "source": []
  },
  {
   "cell_type": "code",
   "execution_count": null,
   "id": "3601e112-d0e2-4291-852d-61e7a814e8b7",
   "metadata": {},
   "outputs": [],
   "source": []
  },
  {
   "cell_type": "code",
   "execution_count": null,
   "id": "00efa208-1f3c-4421-a10c-992e0fc56ac7",
   "metadata": {},
   "outputs": [],
   "source": []
  },
  {
   "cell_type": "code",
   "execution_count": null,
   "id": "4e7feb29-fcb2-4bb3-8cf7-5f583c368daf",
   "metadata": {},
   "outputs": [],
   "source": []
  }
 ],
 "metadata": {
  "kernelspec": {
   "display_name": "Python 3 (ipykernel)",
   "language": "python",
   "name": "python3"
  },
  "language_info": {
   "codemirror_mode": {
    "name": "ipython",
    "version": 3
   },
   "file_extension": ".py",
   "mimetype": "text/x-python",
   "name": "python",
   "nbconvert_exporter": "python",
   "pygments_lexer": "ipython3",
   "version": "3.13.5"
  }
 },
 "nbformat": 4,
 "nbformat_minor": 5
}
