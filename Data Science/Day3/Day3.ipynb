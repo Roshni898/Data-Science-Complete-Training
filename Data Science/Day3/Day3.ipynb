{
 "cells": [
  {
   "cell_type": "code",
   "execution_count": 7,
   "id": "29cc4b21-14fc-431f-bdbc-af81fe190e63",
   "metadata": {},
   "outputs": [
    {
     "name": "stdout",
     "output_type": "stream",
     "text": [
      "Something went wrong!!\n",
      "Invalid datatype comparison!!\n"
     ]
    }
   ],
   "source": [
    "#exception handling \n",
    "age = '23'\n",
    "try:\n",
    "    #print(1/0)\n",
    "    #print(vari)\n",
    "    if age >= 18:\n",
    "        print('can vote')\n",
    "    else:\n",
    "        print('can\\'t vote')\n",
    "except TypeError:\n",
    "    print('Something went wrong!!')\n",
    "    print('Invalid datatype comparison!!')\n",
    "\n",
    "except:\n",
    "    print('Invalid Code!!')"
   ]
  },
  {
   "cell_type": "code",
   "execution_count": 8,
   "id": "2e21b86b-9052-4ced-ad5f-f5fecdc20f8f",
   "metadata": {},
   "outputs": [],
   "source": [
    "def student_records(**kwargs): #** change argu into dictionary\n",
    "    import pandas as pd         #* store in tuple\n",
    "    try:\n",
    "        data = pd.DataFrame(kwargs)\n",
    "        return data\n",
    "    except:\n",
    "        #try:\n",
    "            #pass\n",
    "        #except:\n",
    "            #pass\n",
    "        data=pd.DataFrame(kwargs,index=[1])\n",
    "        return data"
   ]
  },
  {
   "cell_type": "code",
   "execution_count": 12,
   "id": "1c8d1138-b7ff-4f06-9441-7556c411faec",
   "metadata": {},
   "outputs": [
    {
     "data": {
      "text/html": [
       "<div>\n",
       "<style scoped>\n",
       "    .dataframe tbody tr th:only-of-type {\n",
       "        vertical-align: middle;\n",
       "    }\n",
       "\n",
       "    .dataframe tbody tr th {\n",
       "        vertical-align: top;\n",
       "    }\n",
       "\n",
       "    .dataframe thead th {\n",
       "        text-align: right;\n",
       "    }\n",
       "</style>\n",
       "<table border=\"1\" class=\"dataframe\">\n",
       "  <thead>\n",
       "    <tr style=\"text-align: right;\">\n",
       "      <th></th>\n",
       "      <th>Name</th>\n",
       "      <th>Age</th>\n",
       "      <th>Address</th>\n",
       "      <th>Sec</th>\n",
       "    </tr>\n",
       "  </thead>\n",
       "  <tbody>\n",
       "    <tr>\n",
       "      <th>0</th>\n",
       "      <td>Aman</td>\n",
       "      <td>23</td>\n",
       "      <td>Noida</td>\n",
       "      <td>A</td>\n",
       "    </tr>\n",
       "    <tr>\n",
       "      <th>1</th>\n",
       "      <td>Karan</td>\n",
       "      <td>36</td>\n",
       "      <td>Delhi</td>\n",
       "      <td>B</td>\n",
       "    </tr>\n",
       "    <tr>\n",
       "      <th>2</th>\n",
       "      <td>Mohan</td>\n",
       "      <td>25</td>\n",
       "      <td>Noida</td>\n",
       "      <td>C</td>\n",
       "    </tr>\n",
       "  </tbody>\n",
       "</table>\n",
       "</div>"
      ],
      "text/plain": [
       "    Name  Age Address Sec\n",
       "0   Aman   23   Noida   A\n",
       "1  Karan   36   Delhi   B\n",
       "2  Mohan   25   Noida   C"
      ]
     },
     "execution_count": 12,
     "metadata": {},
     "output_type": "execute_result"
    }
   ],
   "source": [
    "student_records(Name = ['Aman','Karan','Mohan'],\n",
    "                Age = [23,36,25],\n",
    "                Address = ['Noida','Delhi','Noida'],\n",
    "                Sec = list('ABC'))   #list will break ABC"
   ]
  },
  {
   "cell_type": "code",
   "execution_count": 17,
   "id": "252e7904-c68d-46b0-a867-9821c7e8e52d",
   "metadata": {},
   "outputs": [],
   "source": [
    "def show_time():\n",
    "    try:\n",
    "        while True:\n",
    "            import time\n",
    "            print(time.asctime())\n",
    "            time.sleep(1)\n",
    "            display(clear = True)\n",
    "    except:\n",
    "        print('Timer has been stopped !!')\n",
    "        \n",
    "    "
   ]
  },
  {
   "cell_type": "code",
   "execution_count": 18,
   "id": "ee9ff976-ebac-480c-adc3-ba0873b78daf",
   "metadata": {},
   "outputs": [
    {
     "name": "stdout",
     "output_type": "stream",
     "text": [
      "Fri Jul  4 10:39:51 2025\n",
      "Timer has been stopped !!\n"
     ]
    }
   ],
   "source": [
    "show_time()"
   ]
  },
  {
   "cell_type": "code",
   "execution_count": null,
   "id": "3a05cd9c-d281-41de-9081-9e00cadb3d8d",
   "metadata": {},
   "outputs": [],
   "source": []
  },
  {
   "cell_type": "code",
   "execution_count": null,
   "id": "63eaacb4-d09c-4ba7-b101-34d2958cff6d",
   "metadata": {},
   "outputs": [],
   "source": []
  },
  {
   "cell_type": "code",
   "execution_count": null,
   "id": "a7aefa8e-cda9-4985-abba-3e64b40a1bb8",
   "metadata": {},
   "outputs": [],
   "source": []
  },
  {
   "cell_type": "code",
   "execution_count": 14,
   "id": "a42988e1-b3e5-4e19-a459-b6775e54b99b",
   "metadata": {},
   "outputs": [
    {
     "name": "stdout",
     "output_type": "stream",
     "text": [
      "Done\n"
     ]
    }
   ],
   "source": [
    "import roshni as r\n",
    "print('Done')"
   ]
  },
  {
   "cell_type": "code",
   "execution_count": 16,
   "id": "bb1e3f8d-8892-475a-b986-524f3fb23b24",
   "metadata": {},
   "outputs": [
    {
     "name": "stdout",
     "output_type": "stream",
     "text": [
      "        *\n",
      "       **\n",
      "      ***\n",
      "     ****\n",
      "    *****\n",
      "   ******\n",
      "  *******\n",
      " ********\n",
      "*********\n"
     ]
    }
   ],
   "source": [
    "import roshni as r\n",
    "r.print_star(n=9,typ='right',shape='*')"
   ]
  },
  {
   "cell_type": "code",
   "execution_count": 17,
   "id": "62f2197a-d05c-4f9d-bc4f-7e7e9c565d12",
   "metadata": {},
   "outputs": [
    {
     "data": {
      "text/plain": [
       "'Palindrome'"
      ]
     },
     "execution_count": 17,
     "metadata": {},
     "output_type": "execute_result"
    }
   ],
   "source": [
    "r.check_palindrome('nitin')"
   ]
  },
  {
   "cell_type": "code",
   "execution_count": 18,
   "id": "4f8bb7ae-8662-4aa7-b73d-1858581c8840",
   "metadata": {},
   "outputs": [
    {
     "data": {
      "text/plain": [
       "'Prime Number'"
      ]
     },
     "execution_count": 18,
     "metadata": {},
     "output_type": "execute_result"
    }
   ],
   "source": [
    "r.check_prime(67)"
   ]
  },
  {
   "cell_type": "code",
   "execution_count": 22,
   "id": "75ae222a-fc13-4520-8a35-f1acf4a2a471",
   "metadata": {},
   "outputs": [
    {
     "data": {
      "text/plain": [
       "3628800"
      ]
     },
     "execution_count": 22,
     "metadata": {},
     "output_type": "execute_result"
    }
   ],
   "source": [
    "r.factorial(10)"
   ]
  },
  {
   "cell_type": "code",
   "execution_count": 23,
   "id": "3e1d8d2f-2d38-4931-be2e-c169eb615e00",
   "metadata": {},
   "outputs": [
    {
     "data": {
      "text/plain": [
       "[0, 1, 1, 2, 3, 5]"
      ]
     },
     "execution_count": 23,
     "metadata": {},
     "output_type": "execute_result"
    }
   ],
   "source": [
    "r.give_fibo(6)"
   ]
  },
  {
   "cell_type": "code",
   "execution_count": 24,
   "id": "ea9998d5-8af0-495e-a505-c76013a9ac51",
   "metadata": {},
   "outputs": [
    {
     "data": {
      "text/plain": [
       "92"
      ]
     },
     "execution_count": 24,
     "metadata": {},
     "output_type": "execute_result"
    }
   ],
   "source": [
    "r.maxx(67,82,28,92,18)"
   ]
  },
  {
   "cell_type": "code",
   "execution_count": 25,
   "id": "1c744fac-a81f-4432-9232-406f60e50758",
   "metadata": {},
   "outputs": [
    {
     "data": {
      "text/plain": [
       "18"
      ]
     },
     "execution_count": 25,
     "metadata": {},
     "output_type": "execute_result"
    }
   ],
   "source": [
    "r.minn(67,82,28,92,18)"
   ]
  },
  {
   "cell_type": "code",
   "execution_count": 26,
   "id": "deff2a0f-5e89-42c2-9be6-ce2d86e29ed1",
   "metadata": {},
   "outputs": [
    {
     "data": {
      "text/plain": [
       "55"
      ]
     },
     "execution_count": 26,
     "metadata": {},
     "output_type": "execute_result"
    }
   ],
   "source": [
    "r.sum_of_n_natural_number(10)"
   ]
  },
  {
   "cell_type": "code",
   "execution_count": 32,
   "id": "5c712ff2-7d26-4af0-8877-54643de4c95e",
   "metadata": {},
   "outputs": [],
   "source": [
    "#!pip install gTTS\n",
    "from gtts import gTTS"
   ]
  },
  {
   "cell_type": "markdown",
   "id": "cd7d7488-0909-4be3-a773-93a1de14425e",
   "metadata": {},
   "source": []
  },
  {
   "cell_type": "code",
   "execution_count": 33,
   "id": "c74c4980-0af6-4f95-8d0f-de53f9ce772e",
   "metadata": {},
   "outputs": [
    {
     "ename": "ModuleNotFoundError",
     "evalue": "No module named 'pygame'",
     "output_type": "error",
     "traceback": [
      "\u001b[1;31m---------------------------------------------------------------------------\u001b[0m",
      "\u001b[1;31mModuleNotFoundError\u001b[0m                       Traceback (most recent call last)",
      "Cell \u001b[1;32mIn[33], line 1\u001b[0m\n\u001b[1;32m----> 1\u001b[0m r\u001b[38;5;241m.\u001b[39msound_box(\u001b[38;5;241m200\u001b[39m)\n",
      "File \u001b[1;32m~\\roshni.py:103\u001b[0m, in \u001b[0;36msound_box\u001b[1;34m(paisa, platform)\u001b[0m\n\u001b[0;32m    101\u001b[0m audio = gTTS(text)\n\u001b[0;32m    102\u001b[0m audio.save('paytm.mp3')\n\u001b[1;32m--> 103\u001b[0m \n\u001b[0;32m    104\u001b[0m import pygame as p\n\u001b[0;32m    105\u001b[0m p.init()\n",
      "\u001b[1;31mModuleNotFoundError\u001b[0m: No module named 'pygame'"
     ]
    }
   ],
   "source": [
    "r.sound_box(200)"
   ]
  },
  {
   "cell_type": "code",
   "execution_count": 34,
   "id": "d41bb134-11ee-4ab7-8cbd-e2103ed6cce4",
   "metadata": {},
   "outputs": [
    {
     "name": "stdout",
     "output_type": "stream",
     "text": [
      "Collecting pygame\n",
      "  Downloading pygame-2.6.1-cp313-cp313-win_amd64.whl.metadata (13 kB)\n",
      "Downloading pygame-2.6.1-cp313-cp313-win_amd64.whl (10.6 MB)\n",
      "   ---------------------------------------- 0.0/10.6 MB ? eta -:--:--\n",
      "   ---------------------------------------- 0.0/10.6 MB ? eta -:--:--\n",
      "    --------------------------------------- 0.3/10.6 MB ? eta -:--:--\n",
      "   -- ------------------------------------- 0.8/10.6 MB 1.7 MB/s eta 0:00:06\n",
      "   --- ------------------------------------ 1.0/10.6 MB 1.8 MB/s eta 0:00:06\n",
      "   ------ --------------------------------- 1.8/10.6 MB 2.2 MB/s eta 0:00:05\n",
      "   --------- ------------------------------ 2.6/10.6 MB 2.4 MB/s eta 0:00:04\n",
      "   ----------- ---------------------------- 3.1/10.6 MB 2.5 MB/s eta 0:00:03\n",
      "   ----------- ---------------------------- 3.1/10.6 MB 2.5 MB/s eta 0:00:03\n",
      "   ----------- ---------------------------- 3.1/10.6 MB 2.5 MB/s eta 0:00:03\n",
      "   ------------ --------------------------- 3.4/10.6 MB 1.9 MB/s eta 0:00:04\n",
      "   ------------- -------------------------- 3.7/10.6 MB 1.8 MB/s eta 0:00:04\n",
      "   -------------- ------------------------- 3.9/10.6 MB 1.8 MB/s eta 0:00:04\n",
      "   --------------- ------------------------ 4.2/10.6 MB 1.6 MB/s eta 0:00:04\n",
      "   ---------------- ----------------------- 4.5/10.6 MB 1.7 MB/s eta 0:00:04\n",
      "   ------------------ --------------------- 5.0/10.6 MB 1.6 MB/s eta 0:00:04\n",
      "   ------------------- -------------------- 5.2/10.6 MB 1.7 MB/s eta 0:00:04\n",
      "   -------------------- ------------------- 5.5/10.6 MB 1.6 MB/s eta 0:00:04\n",
      "   ---------------------- ----------------- 6.0/10.6 MB 1.7 MB/s eta 0:00:03\n",
      "   ----------------------- ---------------- 6.3/10.6 MB 1.7 MB/s eta 0:00:03\n",
      "   ------------------------- -------------- 6.8/10.6 MB 1.7 MB/s eta 0:00:03\n",
      "   -------------------------- ------------- 7.1/10.6 MB 1.7 MB/s eta 0:00:03\n",
      "   --------------------------- ------------ 7.3/10.6 MB 1.6 MB/s eta 0:00:03\n",
      "   ----------------------------- ---------- 7.9/10.6 MB 1.6 MB/s eta 0:00:02\n",
      "   ------------------------------ --------- 8.1/10.6 MB 1.7 MB/s eta 0:00:02\n",
      "   ------------------------------- -------- 8.4/10.6 MB 1.6 MB/s eta 0:00:02\n",
      "   -------------------------------- ------- 8.7/10.6 MB 1.6 MB/s eta 0:00:02\n",
      "   --------------------------------- ------ 8.9/10.6 MB 1.6 MB/s eta 0:00:02\n",
      "   ---------------------------------- ----- 9.2/10.6 MB 1.6 MB/s eta 0:00:01\n",
      "   ----------------------------------- ---- 9.4/10.6 MB 1.6 MB/s eta 0:00:01\n",
      "   ----------------------------------- ---- 9.4/10.6 MB 1.6 MB/s eta 0:00:01\n",
      "   ------------------------------------ --- 9.7/10.6 MB 1.5 MB/s eta 0:00:01\n",
      "   ------------------------------------- -- 10.0/10.6 MB 1.5 MB/s eta 0:00:01\n",
      "   ---------------------------------------  10.5/10.6 MB 1.5 MB/s eta 0:00:01\n",
      "   ---------------------------------------- 10.6/10.6 MB 1.5 MB/s eta 0:00:00\n",
      "Installing collected packages: pygame\n",
      "Successfully installed pygame-2.6.1\n"
     ]
    },
    {
     "name": "stderr",
     "output_type": "stream",
     "text": [
      "\n",
      "[notice] A new release of pip is available: 25.0.1 -> 25.1.1\n",
      "[notice] To update, run: python.exe -m pip install --upgrade pip\n"
     ]
    }
   ],
   "source": [
    "!pip install pygame"
   ]
  },
  {
   "cell_type": "code",
   "execution_count": 35,
   "id": "ea36400c-a28d-4139-a6cd-fb19f674b729",
   "metadata": {},
   "outputs": [
    {
     "name": "stdout",
     "output_type": "stream",
     "text": [
      "pygame 2.6.1 (SDL 2.28.4, Python 3.13.5)\n",
      "Hello from the pygame community. https://www.pygame.org/contribute.html\n"
     ]
    }
   ],
   "source": [
    "r.sound_box(200)"
   ]
  },
  {
   "cell_type": "code",
   "execution_count": 37,
   "id": "f9c9cafb-b5eb-4543-96a1-9cbb73cb581f",
   "metadata": {},
   "outputs": [
    {
     "name": "stdout",
     "output_type": "stream",
     "text": [
      "Done\n"
     ]
    }
   ],
   "source": [
    "from roshni import student_records\n",
    "print('Done')\n"
   ]
  },
  {
   "cell_type": "code",
   "execution_count": 38,
   "id": "375fa1b2-dff5-4eff-a718-5df5bc0773ff",
   "metadata": {},
   "outputs": [
    {
     "data": {
      "text/html": [
       "<div>\n",
       "<style scoped>\n",
       "    .dataframe tbody tr th:only-of-type {\n",
       "        vertical-align: middle;\n",
       "    }\n",
       "\n",
       "    .dataframe tbody tr th {\n",
       "        vertical-align: top;\n",
       "    }\n",
       "\n",
       "    .dataframe thead th {\n",
       "        text-align: right;\n",
       "    }\n",
       "</style>\n",
       "<table border=\"1\" class=\"dataframe\">\n",
       "  <thead>\n",
       "    <tr style=\"text-align: right;\">\n",
       "      <th></th>\n",
       "      <th>name</th>\n",
       "      <th>age</th>\n",
       "    </tr>\n",
       "  </thead>\n",
       "  <tbody>\n",
       "    <tr>\n",
       "      <th>1</th>\n",
       "      <td>riya</td>\n",
       "      <td>89</td>\n",
       "    </tr>\n",
       "  </tbody>\n",
       "</table>\n",
       "</div>"
      ],
      "text/plain": [
       "   name  age\n",
       "1  riya   89"
      ]
     },
     "execution_count": 38,
     "metadata": {},
     "output_type": "execute_result"
    }
   ],
   "source": [
    "student_records(name='riya',age=89)"
   ]
  },
  {
   "cell_type": "code",
   "execution_count": 39,
   "id": "bd994aa7-33fe-46ba-8f71-0c6dd4ad780d",
   "metadata": {},
   "outputs": [
    {
     "name": "stdout",
     "output_type": "stream",
     "text": [
      "Done\n"
     ]
    }
   ],
   "source": [
    "from roshni import *\n",
    "print('Done')"
   ]
  },
  {
   "cell_type": "code",
   "execution_count": 41,
   "id": "e9b69abd-35b2-4e65-8f24-0998ceeb4bf2",
   "metadata": {},
   "outputs": [
    {
     "name": "stdout",
     "output_type": "stream",
     "text": [
      "Done\n"
     ]
    }
   ],
   "source": [
    "import turtle\n",
    "print('Done')"
   ]
  },
  {
   "cell_type": "code",
   "execution_count": 1,
   "id": "0e1bcbb5-bc70-4436-9573-1ee2502f66fc",
   "metadata": {},
   "outputs": [],
   "source": [
    "import turtle\n",
    "for i in range(120):\n",
    "    turtle.speed(0)\n",
    "    turtle.bgcolor('black')\n",
    "    col=['red','yellow','green','blue','orange']\n",
    "    import random\n",
    "    picked_color = random.choice(col)\n",
    "    turtle.color('')\n",
    "    turtle.circle(100)\n",
    "    turtle.left(3)"
   ]
  },
  {
   "cell_type": "code",
   "execution_count": 1,
   "id": "70839d39-04b2-4d7b-a978-925fef14d391",
   "metadata": {},
   "outputs": [],
   "source": [
    "import turtle\n",
    "for i in range(6):\n",
    "    turtle.bgcolor('black')\n",
    "    turtle.color('cyan')\n",
    "    turtle.forward(150)\n",
    "    turtle.left(60)"
   ]
  },
  {
   "cell_type": "code",
   "execution_count": null,
   "id": "129447b1-3aca-4ff0-8449-8ad6bd115a3e",
   "metadata": {},
   "outputs": [],
   "source": [
    "#File Handling - read,write,copy,append,delete,open,new,close\n",
    "#types\n",
    "#Text File - opening file in notepad and it is readable\n",
    "#.py,.html,.csv,.tsv,.css,.java,.c,c++,.json,.js\n",
    "#Binary File - software is needed to run the file\n",
    "#.pdf,.mp3,.mp4,.png,.jpeg,.exe,.zip,.tar,.dat,.xlsx,.ppt,.doc"
   ]
  },
  {
   "cell_type": "code",
   "execution_count": null,
   "id": "4cdab360-bf9b-4f65-94fc-07caf638e74b",
   "metadata": {},
   "outputs": [],
   "source": [
    "#context manager - file close automatically"
   ]
  },
  {
   "cell_type": "code",
   "execution_count": 3,
   "id": "c563d005-b1e2-45be-b1a2-ebea4abd1778",
   "metadata": {},
   "outputs": [
    {
     "name": "stdout",
     "output_type": "stream",
     "text": [
      "print('''This is Roshni Module in Python\n",
      "Info: htt\n"
     ]
    }
   ],
   "source": [
    "file=open('roshni.py',mode='r')\n",
    "print(file.read(50))\n",
    "file.close()"
   ]
  },
  {
   "cell_type": "code",
   "execution_count": 6,
   "id": "9bba3ab1-83eb-4c13-ab5a-dad5242c21cd",
   "metadata": {},
   "outputs": [],
   "source": [
    "f=open('roshni.py',mode='r')"
   ]
  },
  {
   "cell_type": "code",
   "execution_count": 11,
   "id": "9eb0b7d0-4b72-4e22-80f6-d7d172001041",
   "metadata": {},
   "outputs": [
    {
     "name": "stdout",
     "output_type": "stream",
     "text": [
      "def check_palindrome(word:str):\n",
      "\n"
     ]
    }
   ],
   "source": [
    "print(f.readline())"
   ]
  },
  {
   "cell_type": "code",
   "execution_count": 12,
   "id": "c49f0912-9d36-4fcd-96b3-54b23793a1c9",
   "metadata": {},
   "outputs": [
    {
     "name": "stdout",
     "output_type": "stream",
     "text": [
      "Done\n"
     ]
    }
   ],
   "source": [
    "f.close()\n",
    "print('Done')"
   ]
  },
  {
   "cell_type": "code",
   "execution_count": 15,
   "id": "bd1cd42a-d8eb-4958-9b3c-69c677069cf9",
   "metadata": {},
   "outputs": [
    {
     "name": "stdout",
     "output_type": "stream",
     "text": [
      "print('''This is Roshni Module in Python\n",
      "\n",
      "Info: https://www.google.com/''')\n",
      "\n",
      "\n",
      "\n",
      "\n",
      "\n",
      "def check_palindrome(word:str):\n",
      "\n"
     ]
    }
   ],
   "source": [
    "f=open('roshni.py',mode='r')\n",
    "for i in range(5):\n",
    "    print(f.readline())\n",
    "    \n"
   ]
  },
  {
   "cell_type": "code",
   "execution_count": 16,
   "id": "46274543-b7ab-4f13-8e89-7d992c808a2f",
   "metadata": {},
   "outputs": [
    {
     "name": "stdout",
     "output_type": "stream",
     "text": [
      "def check_palindrome(word:str):\n",
      "\n"
     ]
    }
   ],
   "source": [
    "f=open('roshni.py',mode='r')\n",
    "for i in range(10):\n",
    "    if i == 4:\n",
    "        print(f.readline())\n",
    "    else:\n",
    "        f.readline()"
   ]
  },
  {
   "cell_type": "code",
   "execution_count": 18,
   "id": "06d7b1c4-c6b0-4d00-877c-9c9d0531e556",
   "metadata": {},
   "outputs": [
    {
     "name": "stdout",
     "output_type": "stream",
     "text": [
      "Done\n"
     ]
    }
   ],
   "source": [
    "f=open('roshni.py',mode='r')\n",
    "data=f.readlines()\n",
    "f.close()\n",
    "print('Done')"
   ]
  },
  {
   "cell_type": "code",
   "execution_count": 19,
   "id": "c064fdb5-d1be-48de-b5ae-b75459e49946",
   "metadata": {},
   "outputs": [
    {
     "name": "stdout",
     "output_type": "stream",
     "text": [
      "[\"print('''This is Roshni Module in Python\\n\", \"Info: https://www.google.com/''')\\n\", '\\n', '\\n', 'def check_palindrome(word:str):\\n', '    if type(word) == str:\\n', '        word=word.upper()\\n', '        if word==word[::-1]:\\n', \"            return 'Palindrome'\\n\", '        else:\\n', \"            return 'Not a Palindrome'\\n\", '    else:\\n', \"        return 'Invalid Data type'\\n\", '\\n', '\\n', 'def give_fibo(n):\\n', '    fibo=[0,1]\\n', '    for i in range(n-2):\\n', '        last_num = fibo[-1]\\n', '        second_last_num=fibo[-2]\\n', '        next_num = last_num+second_last_num\\n', '        fibo.append(next_num)\\n', '    return fibo\\n', '\\n', '\\n', 'def check_prime(number):\\n', '    for i in range(2,number):\\n', '        if number % i==0:\\n', \"            return 'Not a Prime Number'\\n\", '            break\\n', '    else:\\n', \"        return 'Prime Number'\\n\", '\\n', '\\n', \"def print_star(n=5, typ='left',shape='*'):\\n\", \"    if typ =='left':\\n\", \"        space =''\\n\", \"    elif typ == 'right':\\n\", \"        space ='  '\\n\", \"    elif typ == 'mid':\\n\", \"        space = ' '\\n\", '\\n', '    for i in range(1,n+1):\\n', \"        print(space*(n-i) +i*f'{shape}')\\n\", '\\n', '\\n', 'def sum_of_n_natural_number(n):\\n', '    result = 0\\n', '    for i in range(1,n+1):\\n', '        result += i\\n', '    return result\\n', '\\n', '\\n', 'def factorial(n):\\n', '    result = 1\\n', '    for i in range (1,n+1):\\n', '        result *= i\\n', '    return result\\n', '\\n', '\\n', 'def minn(*data):\\n', '    min_ele = data[0]\\n', '    for i in data[1:]:\\n', '        if i < min_ele:\\n', '            min_ele = i\\n', '    return (min_ele)\\n', '\\n', '\\n', 'def maxx(*data):\\n', '    max_ele = data[0]\\n', '    for i in data[1:]:\\n', '        if i > max_ele:\\n', '            max_ele = i\\n', '    return (max_ele)\\n', '\\n', '\\n', 'def student_records(**kwargs): #** change argu into dictionary\\n', '    import pandas as pd         #* store in tuple\\n', '    try:\\n', '        data = pd.DataFrame(kwargs)\\n', '        return data\\n', '    except:\\n', '        data=pd.DataFrame(kwargs,index=[1])\\n', '        return data    \\n', '\\n', '\\n', 'def show_time():\\n', '    try:\\n', '        while True:\\n', '            import time\\n', '            print(time.asctime())\\n', '            time.sleep(1)\\n', '            display(clear = True)\\n', '    except:\\n', \"        print('Timer has been stopped !!')\\n\", '\\n', \"def sound_box(paisa,platform = 'Paytm'):\\n\", '        from gtts import gTTS\\n', \"        text  = f'''{platform} par {paisa} rs Prapt hue.'''\\n\", '        audio = gTTS(text)\\n', \"        audio.save('paytm.mp3')\\n\", '    \\n', '        import pygame as p\\n', '        p.init()\\n', '    \\n', \"        music = p.mixer.Sound('paytm.mp3')\\n\", '        music.play()\\n', '       ']\n"
     ]
    }
   ],
   "source": [
    "print(data)"
   ]
  },
  {
   "cell_type": "code",
   "execution_count": 20,
   "id": "cd608ec9-dbe6-4c5a-9b42-bdf44bbb329c",
   "metadata": {},
   "outputs": [
    {
     "name": "stdout",
     "output_type": "stream",
     "text": [
      "            print(time.asctime())\n",
      "\n"
     ]
    }
   ],
   "source": [
    "print(data[90])"
   ]
  },
  {
   "cell_type": "code",
   "execution_count": 21,
   "id": "21d20a71-d549-4ca1-a875-63f84a695722",
   "metadata": {},
   "outputs": [
    {
     "name": "stdout",
     "output_type": "stream",
     "text": [
      "['    if type(word) == str:\\n', '        word=word.upper()\\n', '        if word==word[::-1]:\\n', \"            return 'Palindrome'\\n\", '        else:\\n', \"            return 'Not a Palindrome'\\n\", '    else:\\n', \"        return 'Invalid Data type'\\n\", '\\n', '\\n', 'def give_fibo(n):\\n', '    fibo=[0,1]\\n', '    for i in range(n-2):\\n', '        last_num = fibo[-1]\\n', '        second_last_num=fibo[-2]\\n', '        next_num = last_num+second_last_num\\n', '        fibo.append(next_num)\\n', '    return fibo\\n', '\\n', '\\n', 'def check_prime(number):\\n', '    for i in range(2,number):\\n', '        if number % i==0:\\n', \"            return 'Not a Prime Number'\\n\", '            break\\n', '    else:\\n', \"        return 'Prime Number'\\n\", '\\n', '\\n', \"def print_star(n=5, typ='left',shape='*'):\\n\", \"    if typ =='left':\\n\", \"        space =''\\n\", \"    elif typ == 'right':\\n\", \"        space ='  '\\n\", \"    elif typ == 'mid':\\n\", \"        space = ' '\\n\", '\\n', '    for i in range(1,n+1):\\n', \"        print(space*(n-i) +i*f'{shape}')\\n\", '\\n', '\\n', 'def sum_of_n_natural_number(n):\\n', '    result = 0\\n', '    for i in range(1,n+1):\\n', '        result += i\\n']\n"
     ]
    }
   ],
   "source": [
    "print(data[5:50])"
   ]
  },
  {
   "cell_type": "code",
   "execution_count": 22,
   "id": "115140fe-017b-4a52-8692-1851f1893285",
   "metadata": {},
   "outputs": [
    {
     "name": "stdout",
     "output_type": "stream",
     "text": [
      "print('''This is Roshni Module in Python\n",
      "\n",
      "Info: https://www.google.com/''')\n",
      "\n",
      "\n",
      "\n",
      "\n",
      "\n",
      "def check_palindrome(word:str):\n",
      "\n",
      "    if type(word) == str:\n",
      "\n",
      "        word=word.upper()\n",
      "\n",
      "        if word==word[::-1]:\n",
      "\n",
      "            return 'Palindrome'\n",
      "\n",
      "        else:\n",
      "\n",
      "            return 'Not a Palindrome'\n",
      "\n",
      "    else:\n",
      "\n",
      "        return 'Invalid Data type'\n",
      "\n",
      "\n",
      "\n",
      "\n",
      "\n",
      "def give_fibo(n):\n",
      "\n"
     ]
    }
   ],
   "source": [
    "for i in data[:16]:\n",
    "    print(i)"
   ]
  },
  {
   "cell_type": "code",
   "execution_count": null,
   "id": "c78afc25-cda5-4bc3-97cd-578dcbb0cc21",
   "metadata": {},
   "outputs": [],
   "source": []
  }
 ],
 "metadata": {
  "kernelspec": {
   "display_name": "Python 3 (ipykernel)",
   "language": "python",
   "name": "python3"
  },
  "language_info": {
   "codemirror_mode": {
    "name": "ipython",
    "version": 3
   },
   "file_extension": ".py",
   "mimetype": "text/x-python",
   "name": "python",
   "nbconvert_exporter": "python",
   "pygments_lexer": "ipython3",
   "version": "3.13.5"
  }
 },
 "nbformat": 4,
 "nbformat_minor": 5
}
