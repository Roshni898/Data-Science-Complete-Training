{
 "cells": [
  {
   "cell_type": "code",
   "execution_count": 1,
   "id": "881de183-a627-40a3-b8d3-a5b56bb7c929",
   "metadata": {},
   "outputs": [
    {
     "name": "stdout",
     "output_type": "stream",
     "text": [
      "[1, 34, 56, 67]\n"
     ]
    }
   ],
   "source": [
    "#Q1\n",
    "#list - list are mutable we can do changes in list\n",
    "#list are closed in square brackets\n",
    "a=[1,34,56,67]\n",
    "print(a)\n"
   ]
  },
  {
   "cell_type": "code",
   "execution_count": 2,
   "id": "76614b2d-f77f-49c1-8932-19b040196b21",
   "metadata": {},
   "outputs": [
    {
     "name": "stdout",
     "output_type": "stream",
     "text": [
      "(23, 78, 89, 45)\n"
     ]
    }
   ],
   "source": [
    "#tuple - tuples are immutable we cannot do changes in tuple\n",
    "#tuple are closed in () brackets\n",
    "a=(23,78,89,45)\n",
    "print(a)"
   ]
  },
  {
   "cell_type": "code",
   "execution_count": 3,
   "id": "edf84fea-685f-42db-a370-31d2def53fb2",
   "metadata": {},
   "outputs": [
    {
     "name": "stdin",
     "output_type": "stream",
     "text": [
      "enter value 67\n"
     ]
    },
    {
     "name": "stdout",
     "output_type": "stream",
     "text": [
      "67 <class 'str'>\n"
     ]
    }
   ],
   "source": [
    "#Q2\n",
    "#input() function takes the input values from the user. User can input any value with the help of input() function.\n",
    "a=input(\"enter value\")\n",
    "print(a,type(a))"
   ]
  },
  {
   "cell_type": "code",
   "execution_count": 4,
   "id": "cdf5359a-6ae2-4b96-8766-4b04796b7ff5",
   "metadata": {},
   "outputs": [
    {
     "name": "stdin",
     "output_type": "stream",
     "text": [
      "enter your choice 45\n"
     ]
    },
    {
     "name": "stdout",
     "output_type": "stream",
     "text": [
      "45 <class 'int'>\n"
     ]
    }
   ],
   "source": [
    "a=int(input(\"enter your choice\"))\n",
    "print(a,type(a))"
   ]
  },
  {
   "cell_type": "code",
   "execution_count": 5,
   "id": "3bc5218e-73e8-4180-88b3-f3305e61a61a",
   "metadata": {},
   "outputs": [
    {
     "name": "stdout",
     "output_type": "stream",
     "text": [
      "{'Name': 'Roshni', 'Sec': 'E2', 'Course': 'BCA'}\n"
     ]
    }
   ],
   "source": [
    "#Q3\n",
    "#Python dictionaries are key and value pair in which we create key and give it a value.\n",
    "#python dictionaries are mutable means you can do changes in dictionary\n",
    "data={'Name':'Roshni','Sec':'E2','Course':'BCA'}\n",
    "print(data)"
   ]
  },
  {
   "cell_type": "code",
   "execution_count": 6,
   "id": "cd31b84a-a9b7-48bc-952a-fb3c2419585d",
   "metadata": {},
   "outputs": [
    {
     "name": "stdout",
     "output_type": "stream",
     "text": [
      "1\n",
      "2\n",
      "3\n",
      "4\n",
      "5\n"
     ]
    }
   ],
   "source": [
    "#Q4\n",
    "#in for loop the loop will run until the given condition is satisfied\n",
    "for i in range(1,6):\n",
    "    print(i)"
   ]
  },
  {
   "cell_type": "code",
   "execution_count": null,
   "id": "b7d4ba18-5d09-48d3-9c0e-a18006f4ca18",
   "metadata": {},
   "outputs": [],
   "source": [
    "#Q5\n",
    "#exception handling handle the errors  that occurs during the compile time or in run time\n",
    "#try - in try we the code which can give error.\n",
    "#except - in except we write which error we are excepting"
   ]
  },
  {
   "cell_type": "code",
   "execution_count": null,
   "id": "0a8208d4-3fc2-4459-a172-7419b2a440cd",
   "metadata": {},
   "outputs": [],
   "source": [
    "#Q6\n",
    "#python modules are the collection of functions there are many modules in python ."
   ]
  },
  {
   "cell_type": "code",
   "execution_count": null,
   "id": "93d2f204-91c1-46a6-832f-6e798286114d",
   "metadata": {},
   "outputs": [],
   "source": [
    "#Q7\n",
    "#in object-oriented programming we make classes and object \n",
    "#classes are the blueprint of objects\n",
    "#object are written with in the class they are instance of the class\n"
   ]
  },
  {
   "cell_type": "code",
   "execution_count": 13,
   "id": "54a1007a-bff3-45f8-983a-6f29e3c9b32a",
   "metadata": {},
   "outputs": [],
   "source": [
    "class Mobile_Phone:\n",
    "    def One_Plus():\n",
    "        print(\"Fast mobile phone\")\n",
    "class Charger(Mobile_Phone):\n",
    "    def lava():\n",
    "        print(\"best charger\")"
   ]
  },
  {
   "cell_type": "code",
   "execution_count": 16,
   "id": "912bc494-9abc-44b8-9976-d10496bf82e4",
   "metadata": {},
   "outputs": [
    {
     "name": "stdout",
     "output_type": "stream",
     "text": [
      "best charger\n"
     ]
    }
   ],
   "source": [
    "Charger.lava()"
   ]
  },
  {
   "cell_type": "code",
   "execution_count": 18,
   "id": "7fd8b24f-847c-49f7-b282-c7ad80dd50d1",
   "metadata": {},
   "outputs": [],
   "source": [
    "#Q#List comprehension in python means using loop inside a loop"
   ]
  },
  {
   "cell_type": "code",
   "execution_count": 24,
   "id": "debcd7ab-4f1b-4a09-ae4b-97be61b5547f",
   "metadata": {},
   "outputs": [],
   "source": [
    "def calculate_area():\n",
    "    radius=int(input(\"enter radius of a circle\"))\n",
    "    Area=3.14*radius*radius\n",
    "    print(\"Area of a circle\",Area)"
   ]
  },
  {
   "cell_type": "code",
   "execution_count": 25,
   "id": "44c21f25-a234-436c-88bd-2ae350ce3b6e",
   "metadata": {},
   "outputs": [
    {
     "name": "stdin",
     "output_type": "stream",
     "text": [
      "enter radius of a circle 5\n"
     ]
    },
    {
     "name": "stdout",
     "output_type": "stream",
     "text": [
      "Area of a circle 78.5\n"
     ]
    }
   ],
   "source": [
    "calculate_area()"
   ]
  },
  {
   "cell_type": "code",
   "execution_count": 28,
   "id": "1f83c587-964f-4b1e-b979-5aa9839334cb",
   "metadata": {},
   "outputs": [
    {
     "name": "stdin",
     "output_type": "stream",
     "text": [
      "enter your name riya\n",
      "enter your age 23\n"
     ]
    },
    {
     "name": "stdout",
     "output_type": "stream",
     "text": [
      "Hello riya , you are 23 years old!\n"
     ]
    }
   ],
   "source": [
    "name=input(\"enter your name\")\n",
    "age=int(input(\"enter your age\"))\n",
    "print(f'''Hello {name} , you are {age} years old!''')"
   ]
  },
  {
   "cell_type": "code",
   "execution_count": 30,
   "id": "10ba82cf-5f0e-49f5-88a9-648450653aca",
   "metadata": {},
   "outputs": [],
   "source": [
    "fruits=['Apple','Banana','Mango','Orange','Papaya']"
   ]
  },
  {
   "cell_type": "code",
   "execution_count": 31,
   "id": "30e13b56-b0f5-4ee1-a602-3810a388654f",
   "metadata": {},
   "outputs": [],
   "source": [
    "def grade_calculator():\n",
    "    marks=int(input(\"enter you score\"))\n",
    "    if marks>=100 or marks>=90:\n",
    "         print(\"A\")\n",
    "    elif marks>=80 or marks>=89:\n",
    "        print(\"B\")\n",
    "    elif marks>=70 or marks>=79:\n",
    "        print(\"C\")\n",
    "    elif marks>=60 or marks>=69:\n",
    "        print(\"D\")\n",
    "    else:\n",
    "        print(\"F\")\n",
    "        "
   ]
  },
  {
   "cell_type": "code",
   "execution_count": 32,
   "id": "840def55-e2e6-4ae6-8d1a-92fe1bf922b9",
   "metadata": {},
   "outputs": [
    {
     "name": "stdin",
     "output_type": "stream",
     "text": [
      "enter you score 56\n"
     ]
    },
    {
     "name": "stdout",
     "output_type": "stream",
     "text": [
      "F\n"
     ]
    }
   ],
   "source": [
    "grade_calculator()"
   ]
  },
  {
   "cell_type": "code",
   "execution_count": 33,
   "id": "91338e5e-3a43-45e3-bd21-231389749562",
   "metadata": {},
   "outputs": [
    {
     "name": "stdin",
     "output_type": "stream",
     "text": [
      "enter you score 95\n"
     ]
    },
    {
     "name": "stdout",
     "output_type": "stream",
     "text": [
      "A\n"
     ]
    }
   ],
   "source": [
    "grade_calculator()"
   ]
  },
  {
   "cell_type": "code",
   "execution_count": null,
   "id": "9615e967-476a-449f-93ce-8bbd2ed01c2d",
   "metadata": {},
   "outputs": [],
   "source": []
  }
 ],
 "metadata": {
  "kernelspec": {
   "display_name": "Python 3 (ipykernel)",
   "language": "python",
   "name": "python3"
  },
  "language_info": {
   "codemirror_mode": {
    "name": "ipython",
    "version": 3
   },
   "file_extension": ".py",
   "mimetype": "text/x-python",
   "name": "python",
   "nbconvert_exporter": "python",
   "pygments_lexer": "ipython3",
   "version": "3.13.5"
  }
 },
 "nbformat": 4,
 "nbformat_minor": 5
}
